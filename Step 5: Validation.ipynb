{
 "cells": [
  {
   "cell_type": "markdown",
   "metadata": {},
   "source": [
    "##  Validate LDA"
   ]
  },
  {
   "cell_type": "code",
   "execution_count": 3,
   "metadata": {},
   "outputs": [],
   "source": [
    "# Required libraries.\n",
    "import pandas as pd\n",
    "import numpy as np\n",
    "import nltk\n",
    "from nltk.tokenize import RegexpTokenizer\n",
    "from nltk.corpus import stopwords\n",
    "from nltk.stem.porter import PorterStemmer\n",
    "from nltk import tokenize\n",
    "from sklearn.manifold import TSNE\n",
    "import matplotlib.pyplot as plt\n",
    "import gensim\n",
    "import logging\n",
    "import pickle"
   ]
  },
  {
   "cell_type": "code",
   "execution_count": 4,
   "metadata": {},
   "outputs": [],
   "source": [
    "# Prepare the text data set \n",
    "data=pd.read_csv(\"/Users/lurui/Desktop/Insight/overall.data.csv\")"
   ]
  },
  {
   "cell_type": "code",
   "execution_count": 5,
   "metadata": {},
   "outputs": [],
   "source": [
    "data=data.drop(['Unnamed: 0'],axis=1)"
   ]
  },
  {
   "cell_type": "code",
   "execution_count": 6,
   "metadata": {},
   "outputs": [
    {
     "data": {
      "text/html": [
       "<div>\n",
       "<style scoped>\n",
       "    .dataframe tbody tr th:only-of-type {\n",
       "        vertical-align: middle;\n",
       "    }\n",
       "\n",
       "    .dataframe tbody tr th {\n",
       "        vertical-align: top;\n",
       "    }\n",
       "\n",
       "    .dataframe thead th {\n",
       "        text-align: right;\n",
       "    }\n",
       "</style>\n",
       "<table border=\"1\" class=\"dataframe\">\n",
       "  <thead>\n",
       "    <tr style=\"text-align: right;\">\n",
       "      <th></th>\n",
       "      <th>Name</th>\n",
       "      <th>Speciality</th>\n",
       "      <th>Star Rating</th>\n",
       "      <th>Staff</th>\n",
       "      <th>Punctuality</th>\n",
       "      <th>Helpfulness</th>\n",
       "      <th>Knowledge</th>\n",
       "      <th>comment</th>\n",
       "      <th>Rating Usefulness</th>\n",
       "      <th>Review Date</th>\n",
       "      <th>...</th>\n",
       "      <th>compound</th>\n",
       "      <th>polarity</th>\n",
       "      <th>subjectivity</th>\n",
       "      <th>Document_No</th>\n",
       "      <th>Dominant_Topic</th>\n",
       "      <th>Topic_Perc_Contrib</th>\n",
       "      <th>Keywords</th>\n",
       "      <th>Text</th>\n",
       "      <th>Positive Sentiment</th>\n",
       "      <th>Negative Sentiment</th>\n",
       "    </tr>\n",
       "  </thead>\n",
       "  <tbody>\n",
       "    <tr>\n",
       "      <td>0</td>\n",
       "      <td>Dr. Natan Schleider</td>\n",
       "      <td>Family Doctor / G.P.</td>\n",
       "      <td>5.0</td>\n",
       "      <td>5</td>\n",
       "      <td>5.0</td>\n",
       "      <td>5</td>\n",
       "      <td>5.0</td>\n",
       "      <td>I thought   was extremely caring and attentive...</td>\n",
       "      <td>['0']</td>\n",
       "      <td>['November', '20,', '2019']</td>\n",
       "      <td>...</td>\n",
       "      <td>0.8883</td>\n",
       "      <td>0.233750</td>\n",
       "      <td>0.818333</td>\n",
       "      <td>0</td>\n",
       "      <td>2.0</td>\n",
       "      <td>0.3777</td>\n",
       "      <td>staff, care, doctor, patient, office, time, go...</td>\n",
       "      <td>['think', 'extremely', 'care', 'attentive', 'n...</td>\n",
       "      <td>True</td>\n",
       "      <td>False</td>\n",
       "    </tr>\n",
       "    <tr>\n",
       "      <td>1</td>\n",
       "      <td>Dr. Natan Schleider</td>\n",
       "      <td>Family Doctor / G.P.</td>\n",
       "      <td>5.0</td>\n",
       "      <td>5</td>\n",
       "      <td>5.0</td>\n",
       "      <td>5</td>\n",
       "      <td>5.0</td>\n",
       "      <td>was friendly, punctual, and super nice. He e...</td>\n",
       "      <td>['0']</td>\n",
       "      <td>['July', '7,', '2019']</td>\n",
       "      <td>...</td>\n",
       "      <td>0.8748</td>\n",
       "      <td>0.227083</td>\n",
       "      <td>0.377381</td>\n",
       "      <td>1</td>\n",
       "      <td>2.0</td>\n",
       "      <td>0.3602</td>\n",
       "      <td>staff, care, doctor, patient, office, time, go...</td>\n",
       "      <td>['friendly', 'punctual', 'super', 'email', 'la...</td>\n",
       "      <td>True</td>\n",
       "      <td>False</td>\n",
       "    </tr>\n",
       "    <tr>\n",
       "      <td>2</td>\n",
       "      <td>Dr. Natan Schleider</td>\n",
       "      <td>Family Doctor / G.P.</td>\n",
       "      <td>5.0</td>\n",
       "      <td>5</td>\n",
       "      <td>5.0</td>\n",
       "      <td>5</td>\n",
       "      <td>5.0</td>\n",
       "      <td>My experience with   was the opposite of every...</td>\n",
       "      <td>['0']</td>\n",
       "      <td>['January', '2,', '2019']</td>\n",
       "      <td>...</td>\n",
       "      <td>0.9118</td>\n",
       "      <td>0.000000</td>\n",
       "      <td>0.000000</td>\n",
       "      <td>2</td>\n",
       "      <td>2.0</td>\n",
       "      <td>0.3879</td>\n",
       "      <td>staff, care, doctor, patient, office, time, go...</td>\n",
       "      <td>['experience', 'doctor', 'past_experiences', '...</td>\n",
       "      <td>True</td>\n",
       "      <td>False</td>\n",
       "    </tr>\n",
       "    <tr>\n",
       "      <td>3</td>\n",
       "      <td>Dr. Natan Schleider</td>\n",
       "      <td>Family Doctor / G.P.</td>\n",
       "      <td>5.0</td>\n",
       "      <td>5</td>\n",
       "      <td>5.0</td>\n",
       "      <td>5</td>\n",
       "      <td>5.0</td>\n",
       "      <td>very good. Very knowledgeable and friendly wit...</td>\n",
       "      <td>['0']</td>\n",
       "      <td>['August', '9,', '2017']</td>\n",
       "      <td>...</td>\n",
       "      <td>0.7506</td>\n",
       "      <td>0.375000</td>\n",
       "      <td>0.500000</td>\n",
       "      <td>3</td>\n",
       "      <td>2.0</td>\n",
       "      <td>0.3933</td>\n",
       "      <td>staff, care, doctor, patient, office, time, go...</td>\n",
       "      <td>['knowledgeable', 'friendly', 'manner', 'highl...</td>\n",
       "      <td>True</td>\n",
       "      <td>False</td>\n",
       "    </tr>\n",
       "    <tr>\n",
       "      <td>4</td>\n",
       "      <td>Dr. Natan Schleider</td>\n",
       "      <td>Family Doctor / G.P.</td>\n",
       "      <td>4.0</td>\n",
       "      <td>5</td>\n",
       "      <td>5.0</td>\n",
       "      <td>5</td>\n",
       "      <td>1.0</td>\n",
       "      <td>is very knowledgeable and friendly with an e...</td>\n",
       "      <td>['0']</td>\n",
       "      <td>['November', '8,', '2015']</td>\n",
       "      <td>...</td>\n",
       "      <td>0.7506</td>\n",
       "      <td>0.375000</td>\n",
       "      <td>0.500000</td>\n",
       "      <td>4</td>\n",
       "      <td>2.0</td>\n",
       "      <td>0.3933</td>\n",
       "      <td>staff, care, doctor, patient, office, time, go...</td>\n",
       "      <td>['knowledgeable', 'friendly', 'manner', 'highl...</td>\n",
       "      <td>True</td>\n",
       "      <td>False</td>\n",
       "    </tr>\n",
       "    <tr>\n",
       "      <td>5</td>\n",
       "      <td>Dr. Natan Schleider</td>\n",
       "      <td>Family Doctor / G.P.</td>\n",
       "      <td>5.0</td>\n",
       "      <td>5</td>\n",
       "      <td>5.0</td>\n",
       "      <td>5</td>\n",
       "      <td>5.0</td>\n",
       "      <td>Excellent Physician with exceptional bedside m...</td>\n",
       "      <td>['2']</td>\n",
       "      <td>['August', '13,', '2015']</td>\n",
       "      <td>...</td>\n",
       "      <td>0.7003</td>\n",
       "      <td>0.833333</td>\n",
       "      <td>1.000000</td>\n",
       "      <td>5</td>\n",
       "      <td>2.0</td>\n",
       "      <td>0.3911</td>\n",
       "      <td>staff, care, doctor, patient, office, time, go...</td>\n",
       "      <td>['excellent', 'physician', 'exceptional', 'bed...</td>\n",
       "      <td>True</td>\n",
       "      <td>False</td>\n",
       "    </tr>\n",
       "    <tr>\n",
       "      <td>6</td>\n",
       "      <td>Dr. Natan Schleider</td>\n",
       "      <td>Family Doctor / G.P.</td>\n",
       "      <td>5.0</td>\n",
       "      <td>5</td>\n",
       "      <td>5.0</td>\n",
       "      <td>5</td>\n",
       "      <td>5.0</td>\n",
       "      <td>I've been seeing Dr Schleider for . He is extr...</td>\n",
       "      <td>['5']</td>\n",
       "      <td>['November', '3,', '2014']</td>\n",
       "      <td>...</td>\n",
       "      <td>0.5520</td>\n",
       "      <td>0.193750</td>\n",
       "      <td>0.675000</td>\n",
       "      <td>6</td>\n",
       "      <td>2.0</td>\n",
       "      <td>0.3678</td>\n",
       "      <td>staff, care, doctor, patient, office, time, go...</td>\n",
       "      <td>['see', 'schleider', 'extremely', 'thorough', ...</td>\n",
       "      <td>True</td>\n",
       "      <td>False</td>\n",
       "    </tr>\n",
       "    <tr>\n",
       "      <td>7</td>\n",
       "      <td>Dr. Natan Schleider</td>\n",
       "      <td>Family Doctor / G.P.</td>\n",
       "      <td>5.0</td>\n",
       "      <td>5</td>\n",
       "      <td>5.0</td>\n",
       "      <td>5</td>\n",
       "      <td>5.0</td>\n",
       "      <td>Fantastic service, Friendly &amp; Knowledgeable! I...</td>\n",
       "      <td>['1']</td>\n",
       "      <td>['September', '2,', '2013']</td>\n",
       "      <td>...</td>\n",
       "      <td>0.9349</td>\n",
       "      <td>0.258333</td>\n",
       "      <td>0.633333</td>\n",
       "      <td>7</td>\n",
       "      <td>2.0</td>\n",
       "      <td>0.3980</td>\n",
       "      <td>staff, care, doctor, patient, office, time, go...</td>\n",
       "      <td>['fantastic', 'service', 'friendly', 'knowledg...</td>\n",
       "      <td>True</td>\n",
       "      <td>False</td>\n",
       "    </tr>\n",
       "    <tr>\n",
       "      <td>8</td>\n",
       "      <td>Dr. Natan Schleider</td>\n",
       "      <td>Family Doctor / G.P.</td>\n",
       "      <td>5.0</td>\n",
       "      <td>5</td>\n",
       "      <td>5.0</td>\n",
       "      <td>5</td>\n",
       "      <td>5.0</td>\n",
       "      <td>I am a registered nurse in  and worked with   ...</td>\n",
       "      <td>['3']</td>\n",
       "      <td>['July', '10,', '2013']</td>\n",
       "      <td>...</td>\n",
       "      <td>0.7178</td>\n",
       "      <td>-0.300000</td>\n",
       "      <td>0.400000</td>\n",
       "      <td>8</td>\n",
       "      <td>2.0</td>\n",
       "      <td>0.3659</td>\n",
       "      <td>staff, care, doctor, patient, office, time, go...</td>\n",
       "      <td>['work', 'care', 'patient', 'require', 'hour',...</td>\n",
       "      <td>True</td>\n",
       "      <td>False</td>\n",
       "    </tr>\n",
       "    <tr>\n",
       "      <td>9</td>\n",
       "      <td>Dr. Natan Schleider</td>\n",
       "      <td>Family Doctor / G.P.</td>\n",
       "      <td>5.0</td>\n",
       "      <td>5</td>\n",
       "      <td>5.0</td>\n",
       "      <td>5</td>\n",
       "      <td>5.0</td>\n",
       "      <td>is nice, professional and knowledgable. The ...</td>\n",
       "      <td>['2']</td>\n",
       "      <td>['April', '7,', '2013']</td>\n",
       "      <td>...</td>\n",
       "      <td>0.7900</td>\n",
       "      <td>0.191667</td>\n",
       "      <td>0.600000</td>\n",
       "      <td>9</td>\n",
       "      <td>2.0</td>\n",
       "      <td>0.3869</td>\n",
       "      <td>staff, care, doctor, patient, office, time, go...</td>\n",
       "      <td>['place', 'neat', 'really', 'enjoy', 'experien...</td>\n",
       "      <td>True</td>\n",
       "      <td>False</td>\n",
       "    </tr>\n",
       "  </tbody>\n",
       "</table>\n",
       "<p>10 rows × 26 columns</p>\n",
       "</div>"
      ],
      "text/plain": [
       "                  Name            Speciality  Star Rating  Staff  Punctuality  \\\n",
       "0  Dr. Natan Schleider  Family Doctor / G.P.          5.0      5          5.0   \n",
       "1  Dr. Natan Schleider  Family Doctor / G.P.          5.0      5          5.0   \n",
       "2  Dr. Natan Schleider  Family Doctor / G.P.          5.0      5          5.0   \n",
       "3  Dr. Natan Schleider  Family Doctor / G.P.          5.0      5          5.0   \n",
       "4  Dr. Natan Schleider  Family Doctor / G.P.          4.0      5          5.0   \n",
       "5  Dr. Natan Schleider  Family Doctor / G.P.          5.0      5          5.0   \n",
       "6  Dr. Natan Schleider  Family Doctor / G.P.          5.0      5          5.0   \n",
       "7  Dr. Natan Schleider  Family Doctor / G.P.          5.0      5          5.0   \n",
       "8  Dr. Natan Schleider  Family Doctor / G.P.          5.0      5          5.0   \n",
       "9  Dr. Natan Schleider  Family Doctor / G.P.          5.0      5          5.0   \n",
       "\n",
       "   Helpfulness  Knowledge                                            comment  \\\n",
       "0            5        5.0  I thought   was extremely caring and attentive...   \n",
       "1            5        5.0    was friendly, punctual, and super nice. He e...   \n",
       "2            5        5.0  My experience with   was the opposite of every...   \n",
       "3            5        5.0  very good. Very knowledgeable and friendly wit...   \n",
       "4            5        1.0    is very knowledgeable and friendly with an e...   \n",
       "5            5        5.0  Excellent Physician with exceptional bedside m...   \n",
       "6            5        5.0  I've been seeing Dr Schleider for . He is extr...   \n",
       "7            5        5.0  Fantastic service, Friendly & Knowledgeable! I...   \n",
       "8            5        5.0  I am a registered nurse in  and worked with   ...   \n",
       "9            5        5.0    is nice, professional and knowledgable. The ...   \n",
       "\n",
       "  Rating Usefulness                  Review Date  ... compound  polarity  \\\n",
       "0             ['0']  ['November', '20,', '2019']  ...   0.8883  0.233750   \n",
       "1             ['0']       ['July', '7,', '2019']  ...   0.8748  0.227083   \n",
       "2             ['0']    ['January', '2,', '2019']  ...   0.9118  0.000000   \n",
       "3             ['0']     ['August', '9,', '2017']  ...   0.7506  0.375000   \n",
       "4             ['0']   ['November', '8,', '2015']  ...   0.7506  0.375000   \n",
       "5             ['2']    ['August', '13,', '2015']  ...   0.7003  0.833333   \n",
       "6             ['5']   ['November', '3,', '2014']  ...   0.5520  0.193750   \n",
       "7             ['1']  ['September', '2,', '2013']  ...   0.9349  0.258333   \n",
       "8             ['3']      ['July', '10,', '2013']  ...   0.7178 -0.300000   \n",
       "9             ['2']      ['April', '7,', '2013']  ...   0.7900  0.191667   \n",
       "\n",
       "  subjectivity  Document_No  Dominant_Topic  Topic_Perc_Contrib  \\\n",
       "0     0.818333            0             2.0              0.3777   \n",
       "1     0.377381            1             2.0              0.3602   \n",
       "2     0.000000            2             2.0              0.3879   \n",
       "3     0.500000            3             2.0              0.3933   \n",
       "4     0.500000            4             2.0              0.3933   \n",
       "5     1.000000            5             2.0              0.3911   \n",
       "6     0.675000            6             2.0              0.3678   \n",
       "7     0.633333            7             2.0              0.3980   \n",
       "8     0.400000            8             2.0              0.3659   \n",
       "9     0.600000            9             2.0              0.3869   \n",
       "\n",
       "                                            Keywords  \\\n",
       "0  staff, care, doctor, patient, office, time, go...   \n",
       "1  staff, care, doctor, patient, office, time, go...   \n",
       "2  staff, care, doctor, patient, office, time, go...   \n",
       "3  staff, care, doctor, patient, office, time, go...   \n",
       "4  staff, care, doctor, patient, office, time, go...   \n",
       "5  staff, care, doctor, patient, office, time, go...   \n",
       "6  staff, care, doctor, patient, office, time, go...   \n",
       "7  staff, care, doctor, patient, office, time, go...   \n",
       "8  staff, care, doctor, patient, office, time, go...   \n",
       "9  staff, care, doctor, patient, office, time, go...   \n",
       "\n",
       "                                                Text  Positive Sentiment  \\\n",
       "0  ['think', 'extremely', 'care', 'attentive', 'n...                True   \n",
       "1  ['friendly', 'punctual', 'super', 'email', 'la...                True   \n",
       "2  ['experience', 'doctor', 'past_experiences', '...                True   \n",
       "3  ['knowledgeable', 'friendly', 'manner', 'highl...                True   \n",
       "4  ['knowledgeable', 'friendly', 'manner', 'highl...                True   \n",
       "5  ['excellent', 'physician', 'exceptional', 'bed...                True   \n",
       "6  ['see', 'schleider', 'extremely', 'thorough', ...                True   \n",
       "7  ['fantastic', 'service', 'friendly', 'knowledg...                True   \n",
       "8  ['work', 'care', 'patient', 'require', 'hour',...                True   \n",
       "9  ['place', 'neat', 'really', 'enjoy', 'experien...                True   \n",
       "\n",
       "   Negative Sentiment  \n",
       "0               False  \n",
       "1               False  \n",
       "2               False  \n",
       "3               False  \n",
       "4               False  \n",
       "5               False  \n",
       "6               False  \n",
       "7               False  \n",
       "8               False  \n",
       "9               False  \n",
       "\n",
       "[10 rows x 26 columns]"
      ]
     },
     "execution_count": 6,
     "metadata": {},
     "output_type": "execute_result"
    }
   ],
   "source": [
    "data.head(10)"
   ]
  },
  {
   "cell_type": "code",
   "execution_count": 7,
   "metadata": {},
   "outputs": [
    {
     "data": {
      "text/plain": [
       "0        I thought   was extremely caring and attentive...\n",
       "1          was friendly, punctual, and super nice. He e...\n",
       "2        My experience with   was the opposite of every...\n",
       "3        very good. Very knowledgeable and friendly wit...\n",
       "4          is very knowledgeable and friendly with an e...\n",
       "                               ...                        \n",
       "12524    He is excellent, kind, and caring. He did a gr...\n",
       "12525      is the BES doctor in !! he  AND his staff ar...\n",
       "12526    He is by far the best surgeon in . He did an a...\n",
       "12527      knows and is very good at his work i've g to...\n",
       "12528    I love him! He's a great guy and he definitely...\n",
       "Name: trim_comment, Length: 12529, dtype: object"
      ]
     },
     "execution_count": 7,
     "metadata": {},
     "output_type": "execute_result"
    }
   ],
   "source": [
    "data['trim_comment']"
   ]
  },
  {
   "cell_type": "code",
   "execution_count": 8,
   "metadata": {},
   "outputs": [],
   "source": [
    "reviews=data['trim_comment']"
   ]
  },
  {
   "cell_type": "code",
   "execution_count": 9,
   "metadata": {},
   "outputs": [],
   "source": [
    "review_main_text_list = []\n",
    "for i in range(0, len(reviews)):\n",
    "    sentences = tokenize.sent_tokenize(reviews[i])\n",
    "    for sentence in sentences:\n",
    "        review_main_text_list.append(sentence)\n",
    "                \n",
    "# Set up tokenizer.\n",
    "tokenizer = RegexpTokenizer(r'\\w+')\n",
    "# Set up stop words.\n",
    "stop = set(stopwords.words('english'))\n",
    "# Set up stemmer.\n",
    "p_stemmer = PorterStemmer()\n",
    "# Set up logging.\n",
    "logging.basicConfig(format='%(asctime)s : %(levelname)s : %(message)s', level=logging.INFO)"
   ]
  },
  {
   "cell_type": "code",
   "execution_count": 10,
   "metadata": {},
   "outputs": [],
   "source": [
    "# Store all words.\n",
    "all_words = []\n",
    "# Store all sentences.\n",
    "all_sentences = []\n",
    "# Store all cleaned up texts.\n",
    "cleaned_up_review_list = []\n",
    "# For each review.\n",
    "for sentence in review_main_text_list:\n",
    "    # Tokenization\n",
    "    raw = sentence.lower()\n",
    "    tokens = tokenizer.tokenize(raw)\n",
    "    \n",
    "    # Get stop words\n",
    "    j = 0\n",
    "    while j < len(tokens):\n",
    "        if tokens[j] in stop:\n",
    "            del tokens[j]\n",
    "        else:\n",
    "            j += 1\n",
    "\n",
    "    cleaned_text = [p_stemmer.stem(i) for i in tokens]\n",
    "    \n",
    "    all_sentences.append(cleaned_text)\n",
    "    for token in cleaned_text:\n",
    "        all_words.append(token)\n"
   ]
  },
  {
   "cell_type": "code",
   "execution_count": 11,
   "metadata": {},
   "outputs": [
    {
     "name": "stderr",
     "output_type": "stream",
     "text": [
      "2020-02-02 22:38:47,361 : INFO : collecting all words and their counts\n",
      "2020-02-02 22:38:47,368 : INFO : PROGRESS: at sentence #0, processed 0 words, keeping 0 word types\n",
      "2020-02-02 22:38:47,390 : INFO : PROGRESS: at sentence #10000, processed 58472 words, keeping 4235 word types\n",
      "2020-02-02 22:38:47,406 : INFO : PROGRESS: at sentence #20000, processed 117996 words, keeping 5588 word types\n",
      "2020-02-02 22:38:47,423 : INFO : PROGRESS: at sentence #30000, processed 175488 words, keeping 6826 word types\n",
      "2020-02-02 22:38:47,449 : INFO : PROGRESS: at sentence #40000, processed 234855 words, keeping 7918 word types\n",
      "2020-02-02 22:38:47,466 : INFO : PROGRESS: at sentence #50000, processed 290141 words, keeping 8763 word types\n",
      "2020-02-02 22:38:47,485 : INFO : PROGRESS: at sentence #60000, processed 353186 words, keeping 9482 word types\n",
      "2020-02-02 22:38:47,501 : INFO : collected 9949 word types from a corpus of 392637 raw words and 66232 sentences\n",
      "2020-02-02 22:38:47,505 : INFO : Loading a fresh vocabulary\n",
      "2020-02-02 22:38:47,523 : INFO : effective_min_count=5 retains 3566 unique words (35% of original 9949, drops 6383)\n",
      "2020-02-02 22:38:47,524 : INFO : effective_min_count=5 leaves 382359 word corpus (97% of original 392637, drops 10278)\n",
      "2020-02-02 22:38:47,537 : INFO : deleting the raw counts dictionary of 9949 items\n",
      "2020-02-02 22:38:47,538 : INFO : sample=0.001 downsamples 74 most-common words\n",
      "2020-02-02 22:38:47,539 : INFO : downsampling leaves estimated 327282 word corpus (85.6% of prior 382359)\n",
      "2020-02-02 22:38:47,550 : INFO : estimated required memory for 3566 words and 100 dimensions: 4635800 bytes\n",
      "2020-02-02 22:38:47,551 : INFO : resetting layer weights\n",
      "2020-02-02 22:38:48,385 : INFO : training model with 1 workers on 3566 vocabulary and 100 features, using sg=0 hs=0 sample=0.001 negative=5 window=100\n",
      "2020-02-02 22:38:49,051 : INFO : worker thread finished; awaiting finish of 0 more threads\n",
      "2020-02-02 22:38:49,052 : INFO : EPOCH - 1 : training on 392637 raw words (327273 effective words) took 0.7s, 495336 effective words/s\n",
      "2020-02-02 22:38:49,719 : INFO : worker thread finished; awaiting finish of 0 more threads\n",
      "2020-02-02 22:38:49,719 : INFO : EPOCH - 2 : training on 392637 raw words (327507 effective words) took 0.7s, 494983 effective words/s\n",
      "2020-02-02 22:38:50,377 : INFO : worker thread finished; awaiting finish of 0 more threads\n",
      "2020-02-02 22:38:50,378 : INFO : EPOCH - 3 : training on 392637 raw words (327490 effective words) took 0.7s, 501906 effective words/s\n",
      "2020-02-02 22:38:51,033 : INFO : worker thread finished; awaiting finish of 0 more threads\n",
      "2020-02-02 22:38:51,033 : INFO : EPOCH - 4 : training on 392637 raw words (327111 effective words) took 0.6s, 505079 effective words/s\n",
      "2020-02-02 22:38:51,705 : INFO : worker thread finished; awaiting finish of 0 more threads\n",
      "2020-02-02 22:38:51,706 : INFO : EPOCH - 5 : training on 392637 raw words (327143 effective words) took 0.7s, 492192 effective words/s\n",
      "2020-02-02 22:38:52,405 : INFO : worker thread finished; awaiting finish of 0 more threads\n",
      "2020-02-02 22:38:52,406 : INFO : EPOCH - 6 : training on 392637 raw words (327483 effective words) took 0.7s, 472304 effective words/s\n",
      "2020-02-02 22:38:53,073 : INFO : worker thread finished; awaiting finish of 0 more threads\n",
      "2020-02-02 22:38:53,074 : INFO : EPOCH - 7 : training on 392637 raw words (327488 effective words) took 0.7s, 498864 effective words/s\n",
      "2020-02-02 22:38:53,735 : INFO : worker thread finished; awaiting finish of 0 more threads\n",
      "2020-02-02 22:38:53,736 : INFO : EPOCH - 8 : training on 392637 raw words (327353 effective words) took 0.7s, 502262 effective words/s\n",
      "2020-02-02 22:38:54,414 : INFO : worker thread finished; awaiting finish of 0 more threads\n",
      "2020-02-02 22:38:54,414 : INFO : EPOCH - 9 : training on 392637 raw words (327364 effective words) took 0.7s, 488162 effective words/s\n",
      "2020-02-02 22:38:55,181 : INFO : worker thread finished; awaiting finish of 0 more threads\n",
      "2020-02-02 22:38:55,182 : INFO : EPOCH - 10 : training on 392637 raw words (327368 effective words) took 0.8s, 433259 effective words/s\n",
      "2020-02-02 22:38:55,183 : INFO : training on a 3926370 raw words (3273580 effective words) took 6.8s, 481636 effective words/s\n"
     ]
    }
   ],
   "source": [
    "### Step 3: Train word2vec and K-means model\n",
    "model = gensim.models.Word2Vec(all_sentences, size=100, window=100, min_count=5, iter=10, workers=1)\n",
    "\n",
    "all_words_unique = nltk.FreqDist(all_words).most_common(100)\n",
    "all_words_unique_vec = []\n",
    "all_words_unique_word = []\n",
    "for index2, item2 in enumerate(all_words_unique):\n",
    "    all_words_unique_vec.append(list(model.wv[item2[0]]))\n",
    "    all_words_unique_word.append(item2[0])\n",
    "    "
   ]
  },
  {
   "cell_type": "code",
   "execution_count": 12,
   "metadata": {},
   "outputs": [],
   "source": [
    "from sklearn.cluster import KMeans"
   ]
  },
  {
   "cell_type": "code",
   "execution_count": 13,
   "metadata": {},
   "outputs": [],
   "source": [
    "clf=KMeans(n_clusters=3,max_iter=100,n_init=1)"
   ]
  },
  {
   "cell_type": "code",
   "execution_count": 14,
   "metadata": {},
   "outputs": [],
   "source": [
    "labels=clf.fit_predict(all_words_unique_vec)"
   ]
  },
  {
   "cell_type": "code",
   "execution_count": 15,
   "metadata": {},
   "outputs": [],
   "source": [
    "cluster=df = pd.DataFrame(columns = [\"cluster\",\"words\"])"
   ]
  },
  {
   "cell_type": "code",
   "execution_count": 16,
   "metadata": {},
   "outputs": [],
   "source": [
    "cluster[\"cluster\"]=labels"
   ]
  },
  {
   "cell_type": "code",
   "execution_count": 17,
   "metadata": {},
   "outputs": [],
   "source": [
    "cluster[\"words\"]=all_words_unique_word"
   ]
  },
  {
   "cell_type": "code",
   "execution_count": 18,
   "metadata": {},
   "outputs": [
    {
     "data": {
      "text/plain": [
       "1       surgeri\n",
       "9         would\n",
       "11         look\n",
       "12       result\n",
       "20       highli\n",
       "22      surgeon\n",
       "34     procedur\n",
       "40        could\n",
       "45         done\n",
       "46         want\n",
       "66       friend\n",
       "69       breast\n",
       "80        anyon\n",
       "81      perform\n",
       "83      consult\n",
       "86    treatment\n",
       "93        natur\n",
       "96         face\n",
       "Name: words, dtype: object"
      ]
     },
     "execution_count": 18,
     "metadata": {},
     "output_type": "execute_result"
    }
   ],
   "source": [
    "cluster[cluster['cluster']==0][\"words\"]"
   ]
  },
  {
   "cell_type": "code",
   "execution_count": 19,
   "metadata": {},
   "outputs": [
    {
     "data": {
      "text/plain": [
       "5         time\n",
       "15          go\n",
       "18         see\n",
       "26         get\n",
       "29    question\n",
       "31        need\n",
       "35       never\n",
       "38        went\n",
       "41        take\n",
       "42        call\n",
       "44        even\n",
       "49       visit\n",
       "54        know\n",
       "57      answer\n",
       "60     appoint\n",
       "61        wait\n",
       "65     explain\n",
       "70     concern\n",
       "72        took\n",
       "74        felt\n",
       "75     everyth\n",
       "82        told\n",
       "84         ask\n",
       "85      listen\n",
       "91       thing\n",
       "92      follow\n",
       "94     problem\n",
       "Name: words, dtype: object"
      ]
     },
     "execution_count": 19,
     "metadata": {},
     "output_type": "execute_result"
    }
   ],
   "source": [
    "cluster[cluster['cluster']==1][\"words\"]"
   ]
  },
  {
   "cell_type": "code",
   "execution_count": 20,
   "metadata": {},
   "outputs": [
    {
     "data": {
      "text/plain": [
       "0         doctor\n",
       "2          staff\n",
       "3           care\n",
       "4      recommend\n",
       "6             dr\n",
       "7          great\n",
       "8        patient\n",
       "10         offic\n",
       "13          best\n",
       "14          feel\n",
       "16         alway\n",
       "17          help\n",
       "19        experi\n",
       "21          work\n",
       "23          like\n",
       "24          pain\n",
       "25          back\n",
       "27    profession\n",
       "28          make\n",
       "30      knowledg\n",
       "32          amaz\n",
       "33          also\n",
       "36         thank\n",
       "37          made\n",
       "39          well\n",
       "43          good\n",
       "47        realli\n",
       "48         happi\n",
       "50        person\n",
       "51       comfort\n",
       "52         excel\n",
       "53          love\n",
       "55        wonder\n",
       "56          ever\n",
       "58        extrem\n",
       "59          kind\n",
       "62          life\n",
       "63       dentist\n",
       "64           say\n",
       "67          much\n",
       "68           one\n",
       "71         found\n",
       "73        better\n",
       "76         everi\n",
       "77        manner\n",
       "78      friendli\n",
       "79         right\n",
       "87           way\n",
       "88         medic\n",
       "89          mani\n",
       "90          hand\n",
       "95          nice\n",
       "97        confid\n",
       "98        famili\n",
       "99          come\n",
       "Name: words, dtype: object"
      ]
     },
     "execution_count": 20,
     "metadata": {},
     "output_type": "execute_result"
    }
   ],
   "source": [
    "cluster[cluster['cluster']==2][\"words\"]"
   ]
  },
  {
   "cell_type": "code",
   "execution_count": 21,
   "metadata": {},
   "outputs": [
    {
     "data": {
      "text/plain": [
       "['staff, care, doctor, patient, office, time, good, recommend, experience, professional',\n",
       " 'doctor, time, call, appointment, find, wait, give, back, problem, hand',\n",
       " 'surgery, result, make, feel, work, procedure, surgeon, amazing, perform, friend']"
      ]
     },
     "execution_count": 21,
     "metadata": {},
     "output_type": "execute_result"
    }
   ],
   "source": [
    "list(data[\"Keywords\"].unique())"
   ]
  },
  {
   "cell_type": "code",
   "execution_count": 22,
   "metadata": {},
   "outputs": [],
   "source": [
    "most_popular=[['staff', 'care', 'doctor', 'patient', 'office', 'time', 'good', 'recommend', 'experience', 'professional'],\n",
    "              ['doctor', 'time', 'call', 'appointment', 'find', 'wait', 'give', 'back', 'problem', 'hand'],\n",
    "              ['surgery', 'result', 'make', 'feel', 'work', 'procedure', 'surgeon', 'amazing', 'perform', 'friend']]"
   ]
  },
  {
   "cell_type": "markdown",
   "metadata": {},
   "source": [
    "##  Validate Sentiment Analysis"
   ]
  },
  {
   "cell_type": "markdown",
   "metadata": {},
   "source": [
    "Compare sentiment score of TextBlob and VADER"
   ]
  },
  {
   "cell_type": "code",
   "execution_count": 31,
   "metadata": {},
   "outputs": [
    {
     "data": {
      "text/plain": [
       "Index(['Name', 'Speciality', 'Star Rating', 'Staff', 'Punctuality',\n",
       "       'Helpfulness', 'Knowledge', 'comment', 'Rating Usefulness',\n",
       "       'Review Date', 'Link', 'text_length', 'trim_comment', 'neg', 'neu',\n",
       "       'pos', 'compound', 'polarity', 'subjectivity', 'Document_No',\n",
       "       'Dominant_Topic', 'Topic_Perc_Contrib', 'Keywords', 'Text',\n",
       "       'Positive Sentiment', 'Negative Sentiment'],\n",
       "      dtype='object')"
      ]
     },
     "execution_count": 31,
     "metadata": {},
     "output_type": "execute_result"
    }
   ],
   "source": [
    "data.columns"
   ]
  },
  {
   "cell_type": "code",
   "execution_count": 35,
   "metadata": {},
   "outputs": [
    {
     "data": {
      "text/plain": [
       "<matplotlib.axes._subplots.AxesSubplot at 0x1a21a12850>"
      ]
     },
     "execution_count": 35,
     "metadata": {},
     "output_type": "execute_result"
    },
    {
     "data": {
      "image/png": "[encoded data removed]",
      "text/plain": [
       "<Figure size 432x288 with 1 Axes>"
      ]
     },
     "metadata": {
      "needs_background": "light"
     },
     "output_type": "display_data"
    }
   ],
   "source": [
    "data['polarity'].hist(bins=40)"
   ]
  },
  {
   "cell_type": "code",
   "execution_count": 37,
   "metadata": {},
   "outputs": [
    {
     "data": {
      "text/plain": [
       "<matplotlib.axes._subplots.AxesSubplot at 0x1a21c8add0>"
      ]
     },
     "execution_count": 37,
     "metadata": {},
     "output_type": "execute_result"
    },
    {
     "data": {
      "image/png": "[encoded data removed]",
      "text/plain": [
       "<Figure size 432x288 with 1 Axes>"
      ]
     },
     "metadata": {
      "needs_background": "light"
     },
     "output_type": "display_data"
    }
   ],
   "source": [
    "data['compound'].hist(bins=40)"
   ]
  }
 ],
 "metadata": {
  "kernelspec": {
   "display_name": "Python 3",
   "language": "python",
   "name": "python3"
  },
  "language_info": {
   "codemirror_mode": {
    "name": "ipython",
    "version": 3
   },
   "file_extension": ".py",
   "mimetype": "text/x-python",
   "name": "python",
   "nbconvert_exporter": "python",
   "pygments_lexer": "ipython3",
   "version": "3.7.4"
  }
 },
 "nbformat": 4,
 "nbformat_minor": 2
}
