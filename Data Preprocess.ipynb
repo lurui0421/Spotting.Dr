{
 "cells": [
  {
   "cell_type": "markdown",
   "metadata": {},
   "source": [
    "## I: Data Preprocessing\n"
   ]
  },
  {
   "cell_type": "code",
   "execution_count": 1,
   "metadata": {},
   "outputs": [],
   "source": [
    "import numpy as np\n",
    "import pandas as pd \n",
    "import re"
   ]
  },
  {
   "cell_type": "code",
   "execution_count": 4,
   "metadata": {},
   "outputs": [
    {
     "data": {
      "text/plain": [
       "'/Users/lurui'"
      ]
     },
     "execution_count": 4,
     "metadata": {},
     "output_type": "execute_result"
    }
   ],
   "source": [
    "import os \n",
    "os.getcwd()"
   ]
  },
  {
   "cell_type": "code",
   "execution_count": 5,
   "metadata": {},
   "outputs": [],
   "source": [
    "os.chdir('/Users/lurui/Desktop')"
   ]
  },
  {
   "cell_type": "code",
   "execution_count": 7,
   "metadata": {},
   "outputs": [],
   "source": [
    "data=pd.read_csv(\"/Users/lurui/Desktop/Insight/review_dataset.trim.csv\")"
   ]
  },
  {
   "cell_type": "code",
   "execution_count": 8,
   "metadata": {},
   "outputs": [],
   "source": [
    "data_new=data.dropna()"
   ]
  },
  {
   "cell_type": "code",
   "execution_count": 9,
   "metadata": {},
   "outputs": [
    {
     "data": {
      "text/plain": [
       "Unnamed: 0           0\n",
       "Name                 0\n",
       "Speciality           0\n",
       "Star Rating          0\n",
       "Staff                0\n",
       "Punctuality          0\n",
       "Helpfulness          0\n",
       "Knowledge            0\n",
       "comment              0\n",
       "Rating Usefulness    0\n",
       "Review Date          0\n",
       "Link                 0\n",
       "text_length          0\n",
       "trim_comment         0\n",
       "dtype: int64"
      ]
     },
     "execution_count": 9,
     "metadata": {},
     "output_type": "execute_result"
    }
   ],
   "source": [
    "### Drop missing value\n",
    "data_new.isnull().sum()"
   ]
  },
  {
   "cell_type": "code",
   "execution_count": 8,
   "metadata": {},
   "outputs": [],
   "source": [
    "### Drop duplicated values\n",
    "data_new=data.drop_duplicates()"
   ]
  },
  {
   "cell_type": "code",
   "execution_count": 9,
   "metadata": {},
   "outputs": [
    {
     "data": {
      "text/plain": [
       "(12529, 14)"
      ]
     },
     "execution_count": 9,
     "metadata": {},
     "output_type": "execute_result"
    }
   ],
   "source": [
    "data_new.shape"
   ]
  },
  {
   "cell_type": "code",
   "execution_count": 10,
   "metadata": {},
   "outputs": [
    {
     "data": {
      "text/plain": [
       "530"
      ]
     },
     "execution_count": 10,
     "metadata": {},
     "output_type": "execute_result"
    }
   ],
   "source": [
    "### The number of doctors \n",
    "len(data_new['Name'].unique())"
   ]
  },
  {
   "cell_type": "code",
   "execution_count": 11,
   "metadata": {},
   "outputs": [
    {
     "data": {
      "text/plain": [
       "count    530.000000\n",
       "mean      23.639623\n",
       "std       52.578507\n",
       "min        1.000000\n",
       "25%        5.000000\n",
       "50%       10.000000\n",
       "75%       20.000000\n",
       "max      702.000000\n",
       "dtype: float64"
      ]
     },
     "execution_count": 11,
     "metadata": {},
     "output_type": "execute_result"
    }
   ],
   "source": [
    "### Number of review per doctor\n",
    "data_new.groupby([\"Name\"]).size().describe()"
   ]
  },
  {
   "cell_type": "code",
   "execution_count": 12,
   "metadata": {},
   "outputs": [],
   "source": [
    "## Drop out the useless information \n",
    "data_new=data_new.drop([\"Unnamed: 0\",\"Link\"],axis=1)"
   ]
  },
  {
   "cell_type": "markdown",
   "metadata": {},
   "source": [
    "#### a. Rating usefulness"
   ]
  },
  {
   "cell_type": "code",
   "execution_count": 15,
   "metadata": {},
   "outputs": [],
   "source": [
    "data_new['Rating Usefulness']=data_new['Rating Usefulness'].apply(lambda x: x.replace('[','').replace(']','').replace(\"'\",\"\")) "
   ]
  },
  {
   "cell_type": "code",
   "execution_count": 16,
   "metadata": {},
   "outputs": [],
   "source": [
    "data_new['Rating Usefulness'] = data_new['Rating Usefulness'].astype(int)"
   ]
  },
  {
   "cell_type": "code",
   "execution_count": 17,
   "metadata": {},
   "outputs": [
    {
     "data": {
      "text/plain": [
       "count    12529.000000\n",
       "mean         0.438183\n",
       "std          1.376121\n",
       "min          0.000000\n",
       "25%          0.000000\n",
       "50%          0.000000\n",
       "75%          0.000000\n",
       "max         47.000000\n",
       "Name: Rating Usefulness, dtype: float64"
      ]
     },
     "execution_count": 17,
     "metadata": {},
     "output_type": "execute_result"
    }
   ],
   "source": [
    "data_new['Rating Usefulness'].describe()"
   ]
  },
  {
   "cell_type": "markdown",
   "metadata": {},
   "source": [
    "#### b. Date of review "
   ]
  },
  {
   "cell_type": "code",
   "execution_count": 22,
   "metadata": {},
   "outputs": [],
   "source": [
    "data_new['Review Date']=data_new['Review Date'].apply(lambda x: x.replace(\"'\",\"\").replace(\",\",\"\")) "
   ]
  },
  {
   "cell_type": "code",
   "execution_count": 23,
   "metadata": {},
   "outputs": [],
   "source": [
    "data_new['Review Date']=data_new['Review Date'].apply(lambda x: x.replace('[','').replace(']','').replace(\"'\",\"\")) "
   ]
  },
  {
   "cell_type": "code",
   "execution_count": 24,
   "metadata": {},
   "outputs": [],
   "source": [
    "data_new['Review Date'] =pd.to_datetime(data_new['Review Date'] )"
   ]
  },
  {
   "cell_type": "code",
   "execution_count": 26,
   "metadata": {},
   "outputs": [
    {
     "data": {
      "text/plain": [
       "0       2019-11-20\n",
       "1       2019-07-07\n",
       "2       2019-01-02\n",
       "3       2017-08-09\n",
       "4       2015-11-08\n",
       "           ...    \n",
       "12524   2017-06-13\n",
       "12525   2017-06-01\n",
       "12526   2017-05-23\n",
       "12527   2017-04-25\n",
       "12528   2017-03-18\n",
       "Name: Review Date, Length: 12529, dtype: datetime64[ns]"
      ]
     },
     "execution_count": 26,
     "metadata": {},
     "output_type": "execute_result"
    }
   ],
   "source": [
    "data_new['Review Date']"
   ]
  },
  {
   "cell_type": "markdown",
   "metadata": {},
   "source": [
    "#### c. Add Date and Year"
   ]
  },
  {
   "cell_type": "code",
   "execution_count": 27,
   "metadata": {},
   "outputs": [],
   "source": [
    "data_new[\"Review Date\"]=pd.to_datetime(data_new[\"Review Date\"])\n",
    "data_new[\"Order_Mt\"]= data_new[\"Review Date\"].dt.month\n",
    "data_new[\"Order_Yr\"]= data_new[\"Review Date\"].dt.year"
   ]
  },
  {
   "cell_type": "code",
   "execution_count": 28,
   "metadata": {},
   "outputs": [
    {
     "data": {
      "text/plain": [
       "Index(['Name', 'Speciality', 'Star Rating', 'Staff', 'Punctuality',\n",
       "       'Helpfulness', 'Knowledge', 'comment', 'Rating Usefulness',\n",
       "       'Review Date', 'text_length', 'trim_comment', 'Order_Mt', 'Order_Yr'],\n",
       "      dtype='object')"
      ]
     },
     "execution_count": 28,
     "metadata": {},
     "output_type": "execute_result"
    }
   ],
   "source": [
    "data_new.columns"
   ]
  },
  {
   "cell_type": "code",
   "execution_count": 29,
   "metadata": {},
   "outputs": [
    {
     "data": {
      "text/plain": [
       "(12529, 14)"
      ]
     },
     "execution_count": 29,
     "metadata": {},
     "output_type": "execute_result"
    }
   ],
   "source": [
    "data_new.shape"
   ]
  },
  {
   "cell_type": "code",
   "execution_count": 30,
   "metadata": {},
   "outputs": [
    {
     "data": {
      "text/plain": [
       "Plastic / Cosmetic Surgeon, Physician          3594\n",
       "Gynecologist (OBGYN)                           2468\n",
       "Orthopedic Surgeon                             2180\n",
       "Dentist                                        2030\n",
       "Internist / Geriatrician                       1160\n",
       "Family Doctor / G.P.                            901\n",
       "Limb Lengthening and Complex Reconstruction     114\n",
       "Gynecomastia Specialist                          82\n",
       "Name: Speciality, dtype: int64"
      ]
     },
     "execution_count": 30,
     "metadata": {},
     "output_type": "execute_result"
    }
   ],
   "source": [
    "data_new['Speciality'].value_counts()"
   ]
  },
  {
   "cell_type": "markdown",
   "metadata": {},
   "source": [
    "## II:  Explorytary data analysis "
   ]
  },
  {
   "cell_type": "code",
   "execution_count": 31,
   "metadata": {},
   "outputs": [],
   "source": [
    "import matplotlib.pyplot as plt\n",
    "import seaborn as sns"
   ]
  },
  {
   "cell_type": "code",
   "execution_count": 32,
   "metadata": {},
   "outputs": [],
   "source": [
    "sns.set()\n",
    "sns.set_context(\"paper\")"
   ]
  },
  {
   "cell_type": "code",
   "execution_count": 33,
   "metadata": {},
   "outputs": [
    {
     "data": {
      "image/png": "[encoded data removed]",
      "text/plain": [
       "<Figure size 720x720 with 1 Axes>"
      ]
     },
     "metadata": {},
     "output_type": "display_data"
    }
   ],
   "source": [
    "### Distribution of the speciality of the sample \n",
    "plt.figure(figsize=(10,10))\n",
    "ax = sns.countplot(y=\"Speciality\",data=data_new,label='big')"
   ]
  },
  {
   "cell_type": "code",
   "execution_count": 34,
   "metadata": {},
   "outputs": [
    {
     "data": {
      "text/html": [
       "<div>\n",
       "<style scoped>\n",
       "    .dataframe tbody tr th:only-of-type {\n",
       "        vertical-align: middle;\n",
       "    }\n",
       "\n",
       "    .dataframe tbody tr th {\n",
       "        vertical-align: top;\n",
       "    }\n",
       "\n",
       "    .dataframe thead th {\n",
       "        text-align: right;\n",
       "    }\n",
       "</style>\n",
       "<table border=\"1\" class=\"dataframe\">\n",
       "  <thead>\n",
       "    <tr style=\"text-align: right;\">\n",
       "      <th></th>\n",
       "      <th>Name</th>\n",
       "      <th>counts</th>\n",
       "    </tr>\n",
       "  </thead>\n",
       "  <tbody>\n",
       "    <tr>\n",
       "      <td>0</td>\n",
       "      <td>Dr. Aaron N. Manson</td>\n",
       "      <td>6</td>\n",
       "    </tr>\n",
       "    <tr>\n",
       "      <td>1</td>\n",
       "      <td>Dr. Adam D. Schaffner</td>\n",
       "      <td>18</td>\n",
       "    </tr>\n",
       "    <tr>\n",
       "      <td>2</td>\n",
       "      <td>Dr. Adam D. Zeitlin</td>\n",
       "      <td>3</td>\n",
       "    </tr>\n",
       "    <tr>\n",
       "      <td>3</td>\n",
       "      <td>Dr. Adina Benitez</td>\n",
       "      <td>4</td>\n",
       "    </tr>\n",
       "    <tr>\n",
       "      <td>4</td>\n",
       "      <td>Dr. Adrienne L. Simone</td>\n",
       "      <td>14</td>\n",
       "    </tr>\n",
       "    <tr>\n",
       "      <td>...</td>\n",
       "      <td>...</td>\n",
       "      <td>...</td>\n",
       "    </tr>\n",
       "    <tr>\n",
       "      <td>525</td>\n",
       "      <td>Dr. Yael Freeman</td>\n",
       "      <td>3</td>\n",
       "    </tr>\n",
       "    <tr>\n",
       "      <td>526</td>\n",
       "      <td>Dr. Yiling Shiao</td>\n",
       "      <td>4</td>\n",
       "    </tr>\n",
       "    <tr>\n",
       "      <td>527</td>\n",
       "      <td>Dr. Zachary Bregman</td>\n",
       "      <td>25</td>\n",
       "    </tr>\n",
       "    <tr>\n",
       "      <td>528</td>\n",
       "      <td>Dr. Zhanna Tsukerman</td>\n",
       "      <td>5</td>\n",
       "    </tr>\n",
       "    <tr>\n",
       "      <td>529</td>\n",
       "      <td>Dr. Zurab Abayev</td>\n",
       "      <td>5</td>\n",
       "    </tr>\n",
       "  </tbody>\n",
       "</table>\n",
       "<p>530 rows × 2 columns</p>\n",
       "</div>"
      ],
      "text/plain": [
       "                       Name  counts\n",
       "0       Dr. Aaron N. Manson       6\n",
       "1     Dr. Adam D. Schaffner      18\n",
       "2       Dr. Adam D. Zeitlin       3\n",
       "3         Dr. Adina Benitez       4\n",
       "4    Dr. Adrienne L. Simone      14\n",
       "..                      ...     ...\n",
       "525        Dr. Yael Freeman       3\n",
       "526        Dr. Yiling Shiao       4\n",
       "527     Dr. Zachary Bregman      25\n",
       "528    Dr. Zhanna Tsukerman       5\n",
       "529        Dr. Zurab Abayev       5\n",
       "\n",
       "[530 rows x 2 columns]"
      ]
     },
     "execution_count": 34,
     "metadata": {},
     "output_type": "execute_result"
    }
   ],
   "source": [
    "## Number of reviews per doctor \n",
    "data_new.groupby([\"Name\"]).size().reset_index(name='counts')"
   ]
  },
  {
   "cell_type": "code",
   "execution_count": 35,
   "metadata": {},
   "outputs": [
    {
     "data": {
      "text/plain": [
       "count    530.000000\n",
       "mean      23.639623\n",
       "std       52.578507\n",
       "min        1.000000\n",
       "25%        5.000000\n",
       "50%       10.000000\n",
       "75%       20.000000\n",
       "max      702.000000\n",
       "dtype: float64"
      ]
     },
     "execution_count": 35,
     "metadata": {},
     "output_type": "execute_result"
    }
   ],
   "source": [
    "data_new.groupby([\"Name\"]).size().describe()"
   ]
  },
  {
   "cell_type": "code",
   "execution_count": 36,
   "metadata": {
    "scrolled": false
   },
   "outputs": [
    {
     "data": {
      "text/plain": [
       "<matplotlib.axes._subplots.AxesSubplot at 0x1a19152b50>"
      ]
     },
     "execution_count": 36,
     "metadata": {},
     "output_type": "execute_result"
    },
    {
     "data": {
      "image/png": "[encoded data removed]",
      "text/plain": [
       "<Figure size 1080x576 with 1 Axes>"
      ]
     },
     "metadata": {},
     "output_type": "display_data"
    }
   ],
   "source": [
    "### The over all rating score \n",
    "sns.set()\n",
    "sns.set_context(\"talk\",font_scale=1.4)\n",
    "plt.figure(figsize=(15,8))\n",
    "#ax = sns.countplot(x=\"Star Rating\",data=data,label='big')\n",
    "sns.kdeplot(data_new[\"Star Rating\"],shade=True,cut=3,clip=(0,6))"
   ]
  },
  {
   "cell_type": "code",
   "execution_count": 37,
   "metadata": {},
   "outputs": [
    {
     "data": {
      "text/plain": [
       "<matplotlib.axes._subplots.AxesSubplot at 0x1a196f6d50>"
      ]
     },
     "execution_count": 37,
     "metadata": {},
     "output_type": "execute_result"
    },
    {
     "data": {
      "image/png": "[encoded data removed]",
      "text/plain": [
       "<Figure size 1080x576 with 1 Axes>"
      ]
     },
     "metadata": {},
     "output_type": "display_data"
    }
   ],
   "source": [
    "### The staff score\n",
    "sns.set()\n",
    "sns.set_context(\"talk\",font_scale=1.4)\n",
    "plt.figure(figsize=(15,8))\n",
    "sns.kdeplot(data_new[\"Staff\"], shade=True,cut=3,clip=(0,6))"
   ]
  },
  {
   "cell_type": "code",
   "execution_count": 38,
   "metadata": {
    "scrolled": false
   },
   "outputs": [
    {
     "data": {
      "text/plain": [
       "<matplotlib.axes._subplots.AxesSubplot at 0x1a19702850>"
      ]
     },
     "execution_count": 38,
     "metadata": {},
     "output_type": "execute_result"
    },
    {
     "data": {
      "image/png": "[encoded data removed]",
      "text/plain": [
       "<Figure size 1080x576 with 1 Axes>"
      ]
     },
     "metadata": {},
     "output_type": "display_data"
    }
   ],
   "source": [
    "### The punctuality score\n",
    "sns.set()\n",
    "sns.set_context(\"paper\")\n",
    "plt.figure(figsize=(15,8))\n",
    "sns.kdeplot(data_new[\"Punctuality\"], shade=True,cut=3,clip=(0,6))"
   ]
  },
  {
   "cell_type": "code",
   "execution_count": 39,
   "metadata": {},
   "outputs": [
    {
     "data": {
      "text/plain": [
       "<matplotlib.axes._subplots.AxesSubplot at 0x1a19a01310>"
      ]
     },
     "execution_count": 39,
     "metadata": {},
     "output_type": "execute_result"
    },
    {
     "data": {
      "image/png": "[encoded data removed]",
      "text/plain": [
       "<Figure size 1080x576 with 1 Axes>"
      ]
     },
     "metadata": {},
     "output_type": "display_data"
    }
   ],
   "source": [
    "### The helpfulness score\n",
    "sns.set()\n",
    "sns.set_context(\"talk\",font_scale=1.4)\n",
    "plt.figure(figsize=(15,8))\n",
    "sns.kdeplot(data_new[\"Helpfulness\"],shade=True,cut=3,clip=(0,6))"
   ]
  },
  {
   "cell_type": "code",
   "execution_count": 40,
   "metadata": {},
   "outputs": [
    {
     "data": {
      "text/plain": [
       "<matplotlib.axes._subplots.AxesSubplot at 0x1a199a7c10>"
      ]
     },
     "execution_count": 40,
     "metadata": {},
     "output_type": "execute_result"
    },
    {
     "data": {
      "text/plain": [
       "<Figure size 1080x576 with 0 Axes>"
      ]
     },
     "metadata": {},
     "output_type": "display_data"
    },
    {
     "data": {
      "image/png": "[encoded data removed]",
      "text/plain": [
       "<Figure size 1080x576 with 1 Axes>"
      ]
     },
     "metadata": {},
     "output_type": "display_data"
    }
   ],
   "source": [
    "### The Knowledge score\n",
    "sns.set()\n",
    "sns.set_context(\"talk\",font_scale=1.4)\n",
    "plt.figure(figsize=(15,8))\n",
    "plt.figure(figsize=(15,8))\n",
    "sns.kdeplot(data_new[\"Knowledge\"],shade=True,cut=3,clip=(0,6))"
   ]
  },
  {
   "cell_type": "code",
   "execution_count": 41,
   "metadata": {},
   "outputs": [],
   "source": [
    "### Distribution of overall ratings \n",
    "mean_Star_Rating_score_by_dr=data_new.groupby(['Name'])['Star Rating'].mean()"
   ]
  },
  {
   "cell_type": "code",
   "execution_count": 42,
   "metadata": {},
   "outputs": [
    {
     "data": {
      "text/plain": [
       "count    530.000000\n",
       "mean       4.423186\n",
       "std        0.529623\n",
       "min        2.312500\n",
       "25%        4.052867\n",
       "50%        4.531080\n",
       "75%        4.896261\n",
       "max        5.000000\n",
       "Name: Star Rating, dtype: float64"
      ]
     },
     "execution_count": 42,
     "metadata": {},
     "output_type": "execute_result"
    }
   ],
   "source": [
    "mean_Star_Rating_score_by_dr.describe()"
   ]
  },
  {
   "cell_type": "code",
   "execution_count": 43,
   "metadata": {},
   "outputs": [],
   "source": [
    "### Length of each sentence \n",
    "def getSentenceLength (vec):\n",
    "### Get the sentence length for each reviews\n",
    "    return (len(vec))"
   ]
  },
  {
   "cell_type": "code",
   "execution_count": 44,
   "metadata": {},
   "outputs": [],
   "source": [
    "data_new[\"text_length\"] = data_new[\"comment\"].apply(lambda x: getSentenceLength(x))"
   ]
  },
  {
   "cell_type": "code",
   "execution_count": 45,
   "metadata": {},
   "outputs": [
    {
     "data": {
      "text/plain": [
       "<matplotlib.axes._subplots.AxesSubplot at 0x1a19e1b390>"
      ]
     },
     "execution_count": 45,
     "metadata": {},
     "output_type": "execute_result"
    },
    {
     "data": {
      "image/png": "[encoded data removed]",
      "text/plain": [
       "<Figure size 1080x576 with 1 Axes>"
      ]
     },
     "metadata": {},
     "output_type": "display_data"
    }
   ],
   "source": [
    "### The length of the review\n",
    "sns.set()\n",
    "sns.set_context(\"talk\",font_scale=1.4)\n",
    "plt.figure(figsize=(15,8))\n",
    "sns.distplot(data_new['text_length'])"
   ]
  },
  {
   "cell_type": "markdown",
   "metadata": {},
   "source": [
    "## III: Text Feature Engineering\n",
    "\n",
    "I will perform the following steps:\n",
    "\n",
    "* **Name** **entity** **remove**: Remove the person and entities name\n",
    "* **Tokenization**: Split the text into sentences and the sentences into words. Lowercase the words and remove punctuation.\n",
    "* Words that have fewer than 3 characters are removed.\n",
    "* All **stopwords** are removed.\n",
    "* Words are **lemmatized** - words in third person are changed to first person and verbs in past and future tenses are changed into present.\n",
    "* Words are **stemmed** - words are reduced to their root form."
   ]
  },
  {
   "cell_type": "code",
   "execution_count": null,
   "metadata": {},
   "outputs": [],
   "source": [
    "### Name entity remove\n",
    "import spacy"
   ]
  },
  {
   "cell_type": "code",
   "execution_count": null,
   "metadata": {},
   "outputs": [],
   "source": [
    "def detect_name_ent (phrase):\n",
    "    nlp=spacy.load('en_core_web_sm')\n",
    "    doc=nlp(phrase)\n",
    "    ne=[ent.text for ent in doc.ents]\n",
    "    for i in ne:\n",
    "        phrase=phrase.replace(i,\"\")\n",
    "    phrase_clean=phrase.replace(\"Dr.\",\"\")\n",
    "    return(phrase_clean)"
   ]
  },
  {
   "cell_type": "code",
   "execution_count": null,
   "metadata": {},
   "outputs": [],
   "source": [
    "detect_name_ent(data_new['comment'][48])"
   ]
  },
  {
   "cell_type": "code",
   "execution_count": null,
   "metadata": {},
   "outputs": [],
   "source": [
    "len(data_new['comment'])"
   ]
  },
  {
   "cell_type": "code",
   "execution_count": null,
   "metadata": {},
   "outputs": [],
   "source": [
    "trim_comment=[]\n",
    "for i in list(range(0,12529)):\n",
    "     trim_comment.append(detect_name_ent(data_new['comment'][i]))"
   ]
  },
  {
   "cell_type": "code",
   "execution_count": null,
   "metadata": {},
   "outputs": [],
   "source": [
    "data_new['trim_comment']=pd.DataFrame(trim_comment)"
   ]
  },
  {
   "cell_type": "code",
   "execution_count": null,
   "metadata": {
    "scrolled": false
   },
   "outputs": [],
   "source": [
    "data_new.head(50)"
   ]
  },
  {
   "cell_type": "code",
   "execution_count": 46,
   "metadata": {},
   "outputs": [],
   "source": [
    "data_new.to_csv(r'review_dataset.clean.csv', encoding='utf8')"
   ]
  },
  {
   "cell_type": "code",
   "execution_count": 11,
   "metadata": {},
   "outputs": [
    {
     "name": "stderr",
     "output_type": "stream",
     "text": [
      "[nltk_data] Downloading package stopwords to /Users/lurui/nltk_data...\n",
      "[nltk_data]   Package stopwords is already up-to-date!\n"
     ]
    }
   ],
   "source": [
    "import nltk; nltk.download('stopwords')\n",
    "import re\n",
    "import numpy as np\n",
    "import pandas as pd\n",
    "from pprint import pprint"
   ]
  },
  {
   "cell_type": "code",
   "execution_count": 14,
   "metadata": {},
   "outputs": [],
   "source": [
    "# Gensim\n",
    "import gensim\n",
    "import gensim.corpora as corpora\n",
    "from gensim.utils import simple_preprocess\n",
    "from gensim.models import CoherenceModel"
   ]
  },
  {
   "cell_type": "code",
   "execution_count": 17,
   "metadata": {},
   "outputs": [],
   "source": [
    "# spacy for lemmatization\n",
    "import spacy\n",
    "# Plotting tools\n",
    "import pyLDAvis\n",
    "import pyLDAvis.gensim  # don't skip this\n",
    "import matplotlib.pyplot as plt\n",
    "%matplotlib inline"
   ]
  },
  {
   "cell_type": "code",
   "execution_count": 18,
   "metadata": {},
   "outputs": [],
   "source": [
    "# Enable logging for gensim - optional\n",
    "import logging\n",
    "logging.basicConfig(format='%(asctime)s : %(levelname)s : %(message)s', level=logging.ERROR)"
   ]
  },
  {
   "cell_type": "code",
   "execution_count": 19,
   "metadata": {},
   "outputs": [],
   "source": [
    "import warnings\n",
    "warnings.filterwarnings(\"ignore\",category=DeprecationWarning)"
   ]
  },
  {
   "cell_type": "code",
   "execution_count": 20,
   "metadata": {},
   "outputs": [],
   "source": [
    "from nltk.corpus import stopwords\n",
    "stop_words = stopwords.words('english')\n",
    "stop_words.extend(['from', 'subject', 're', 'edu', 'use'])"
   ]
  },
  {
   "cell_type": "code",
   "execution_count": 68,
   "metadata": {},
   "outputs": [],
   "source": [
    "stop_words.extend(['from', 'subject', 're', 'edu', 'use',\n",
    "                   'not', 'would', 'say', 'could', '_', 'be', \n",
    "                   'know', 'good', 'go', 'get', 'do', 'done', \n",
    "                   'try', 'many', 'some', 'nice', 'thank', 'think', \n",
    "                   'see', 'rather', 'easy', 'easily', 'lot', 'lack', \n",
    "                   'make', 'want', 'seem', 'run', 'need', 'even', 'right', \n",
    "                   'line', 'even', 'also', 'may', 'take', 'come','find','great','visit',\n",
    "                    'give','happy','life','pain','make','good','find'])"
   ]
  },
  {
   "cell_type": "code",
   "execution_count": 69,
   "metadata": {},
   "outputs": [],
   "source": [
    "def sent_to_words(sentences):\n",
    "    for sentence in sentences:\n",
    "        yield(gensim.utils.simple_preprocess(str(sentence), deacc=True))  # deacc=True removes punctuations"
   ]
  },
  {
   "cell_type": "code",
   "execution_count": 70,
   "metadata": {},
   "outputs": [],
   "source": [
    "#### Tokenizing words and removing punctuations and unnecessary characters altogether\n",
    "data_words = list(sent_to_words(data_new['trim_comment']))"
   ]
  },
  {
   "cell_type": "code",
   "execution_count": 71,
   "metadata": {},
   "outputs": [],
   "source": [
    "# Build the bigram and trigram models\n",
    "bigram = gensim.models.Phrases(data_words) # higher threshold fewer phrases.\n",
    "trigram = gensim.models.Phrases(bigram[data_words])  "
   ]
  },
  {
   "cell_type": "code",
   "execution_count": 72,
   "metadata": {},
   "outputs": [],
   "source": [
    "bigram_mod = gensim.models.phrases.Phraser(bigram)\n",
    "trigram_mod = gensim.models.phrases.Phraser(trigram)"
   ]
  },
  {
   "cell_type": "code",
   "execution_count": 73,
   "metadata": {},
   "outputs": [
    {
     "name": "stdout",
     "output_type": "stream",
     "text": [
      "['thought', 'was', 'extremely', 'caring', 'and', 'attentive', 'to', 'my', 'needs', 'he', 'was', 'very', 'thorough', 'in', 'his', 'exam', 'and', 'was', 'very', 'confident', 'in', 'his', 'ability', 'to', 'address', 'my', 'issues', 'would_recommend_him', 'very', 'highly']\n"
     ]
    }
   ],
   "source": [
    "print(trigram_mod[bigram_mod[data_words[0]]])"
   ]
  },
  {
   "cell_type": "code",
   "execution_count": 65,
   "metadata": {},
   "outputs": [],
   "source": [
    "### Remove Stopwords, Make Bigrams and Lemmatize"
   ]
  },
  {
   "cell_type": "code",
   "execution_count": 74,
   "metadata": {},
   "outputs": [],
   "source": [
    "def remove_stopwords(texts):\n",
    "    return [[word for word in simple_preprocess(str(doc)) if word not in stop_words] for doc in texts]"
   ]
  },
  {
   "cell_type": "code",
   "execution_count": 75,
   "metadata": {},
   "outputs": [],
   "source": [
    "def make_bigrams(texts):\n",
    "    return [bigram_mod[doc] for doc in texts]\n",
    "\n",
    "def make_trigrams(texts):\n",
    "    return [trigram_mod[bigram_mod[doc]] for doc in texts]\n",
    "\n",
    "def lemmatization(texts, allowed_postags=['NOUN', 'ADJ', 'VERB', 'ADV']):\n",
    "    \"\"\"https://spacy.io/api/annotation\"\"\"\n",
    "    texts_out = []\n",
    "    for sent in texts:\n",
    "        doc = nlp(\" \".join(sent)) \n",
    "        texts_out.append([token.lemma_ for token in doc if token.pos_ in allowed_postags])\n",
    "    return texts_out"
   ]
  },
  {
   "cell_type": "code",
   "execution_count": 77,
   "metadata": {},
   "outputs": [],
   "source": [
    "# Remove Stop Words\n",
    "data_words_nostops = remove_stopwords(data_words)"
   ]
  },
  {
   "cell_type": "code",
   "execution_count": 78,
   "metadata": {},
   "outputs": [],
   "source": [
    "# Form Bigrams\n",
    "data_words_bigrams = make_bigrams(data_words_nostops)"
   ]
  },
  {
   "cell_type": "code",
   "execution_count": 80,
   "metadata": {},
   "outputs": [],
   "source": [
    "# Initialize spacy 'en' model, keeping only tagger component (for efficiency)\n",
    "# python3 -m spacy download en\n",
    "nlp = spacy.load('en', disable=['parser', 'ner'])"
   ]
  },
  {
   "cell_type": "code",
   "execution_count": 81,
   "metadata": {},
   "outputs": [],
   "source": [
    "#Do lemmatization keeping only noun, adj, vb, adv\n",
    "data_lemmatized = lemmatization(data_words_bigrams, allowed_postags=['NOUN', 'ADJ', 'VERB', 'ADV'])"
   ]
  },
  {
   "cell_type": "code",
   "execution_count": 53,
   "metadata": {},
   "outputs": [
    {
     "name": "stdout",
     "output_type": "stream",
     "text": [
      "[['think', 'extremely', 'care', 'attentive', 'need', 'thorough', 'exam', 'confident', 'ability', 'address', 'issue', 'would', 'recommend', 'highly']]\n"
     ]
    }
   ],
   "source": [
    "print(data_lemmatized[:1])"
   ]
  },
  {
   "cell_type": "markdown",
   "metadata": {},
   "source": [
    "### IV:  Topic Modeling"
   ]
  },
  {
   "cell_type": "code",
   "execution_count": 82,
   "metadata": {},
   "outputs": [],
   "source": [
    "# Create Dictionary\n",
    "id2word = corpora.Dictionary(data_lemmatized)"
   ]
  },
  {
   "cell_type": "code",
   "execution_count": 83,
   "metadata": {},
   "outputs": [],
   "source": [
    "# Create Corpus\n",
    "texts = data_lemmatized"
   ]
  },
  {
   "cell_type": "code",
   "execution_count": 84,
   "metadata": {},
   "outputs": [],
   "source": [
    "# Term Document Frequency\n",
    "corpus = [id2word.doc2bow(text) for text in texts]"
   ]
  },
  {
   "cell_type": "code",
   "execution_count": 85,
   "metadata": {},
   "outputs": [
    {
     "name": "stdout",
     "output_type": "stream",
     "text": [
      "[[(0, 1), (1, 1), (2, 1), (3, 1), (4, 1), (5, 1), (6, 1), (7, 1), (8, 1), (9, 1), (10, 1), (11, 1), (12, 1)]]\n"
     ]
    }
   ],
   "source": [
    "# View\n",
    "print(corpus[:1])"
   ]
  },
  {
   "cell_type": "code",
   "execution_count": 86,
   "metadata": {},
   "outputs": [
    {
     "data": {
      "text/plain": [
       "[[('ability', 1),\n",
       "  ('address', 1),\n",
       "  ('attentive', 1),\n",
       "  ('care', 1),\n",
       "  ('confident', 1),\n",
       "  ('exam', 1),\n",
       "  ('extremely', 1),\n",
       "  ('highly', 1),\n",
       "  ('issue', 1),\n",
       "  ('need', 1),\n",
       "  ('recommend', 1),\n",
       "  ('think', 1),\n",
       "  ('thorough', 1)]]"
      ]
     },
     "execution_count": 86,
     "metadata": {},
     "output_type": "execute_result"
    }
   ],
   "source": [
    "[[(id2word[id], freq) for id, freq in cp] for cp in corpus[:1]]"
   ]
  },
  {
   "cell_type": "code",
   "execution_count": 87,
   "metadata": {},
   "outputs": [],
   "source": [
    "### LDA Model \n",
    "mallet_path = \"/Users/lurui/Desktop//mallet-2.0.8/bin/mallet\""
   ]
  },
  {
   "cell_type": "code",
   "execution_count": 88,
   "metadata": {},
   "outputs": [],
   "source": [
    "ldamallet = gensim.models.wrappers.LdaMallet(mallet_path, corpus=corpus, num_topics=3, id2word=id2word)"
   ]
  },
  {
   "cell_type": "code",
   "execution_count": 89,
   "metadata": {},
   "outputs": [
    {
     "name": "stdout",
     "output_type": "stream",
     "text": [
      "[(0,\n",
      "  [('doctor', 0.03547315925549252),\n",
      "   ('time', 0.01934788202570732),\n",
      "   ('call', 0.015782186224896154),\n",
      "   ('appointment', 0.01385842594748257),\n",
      "   ('find', 0.01179987991814829),\n",
      "   ('wait', 0.01106468490767176),\n",
      "   ('give', 0.010929899155751063),\n",
      "   ('back', 0.01064807440173506),\n",
      "   ('problem', 0.00930021688252809),\n",
      "   ('hand', 0.009287963632353482)]),\n",
      " (1,\n",
      "  [('surgery', 0.05656943405634505),\n",
      "   ('result', 0.03324607329842932),\n",
      "   ('make', 0.027773622538020445),\n",
      "   ('feel', 0.027636499626028422),\n",
      "   ('work', 0.023597606581899775),\n",
      "   ('procedure', 0.020144602343555224),\n",
      "   ('surgeon', 0.016965843929194716),\n",
      "   ('amazing', 0.016454749439042633),\n",
      "   ('perform', 0.010408875592121666),\n",
      "   ('friend', 0.00868860633258539)]),\n",
      " (2,\n",
      "  [('staff', 0.053323399499760525),\n",
      "   ('care', 0.041070193177585014),\n",
      "   ('doctor', 0.04029854717683998),\n",
      "   ('patient', 0.04019211324570273),\n",
      "   ('office', 0.027632909371507638),\n",
      "   ('time', 0.025876749507743067),\n",
      "   ('good', 0.02494545261029216),\n",
      "   ('recommend', 0.022524080676919803),\n",
      "   ('experience', 0.01883880581129264),\n",
      "   ('professional', 0.018479591293704432)])]\n"
     ]
    }
   ],
   "source": [
    "pprint(ldamallet.show_topics(formatted=False))"
   ]
  },
  {
   "cell_type": "code",
   "execution_count": 90,
   "metadata": {},
   "outputs": [],
   "source": [
    "from matplotlib import pyplot as plt\n",
    "from wordcloud import WordCloud, STOPWORDS\n",
    "import matplotlib.colors as mcolors"
   ]
  },
  {
   "cell_type": "code",
   "execution_count": 91,
   "metadata": {},
   "outputs": [],
   "source": [
    "cols = [color for name, color in mcolors.TABLEAU_COLORS.items()]"
   ]
  },
  {
   "cell_type": "code",
   "execution_count": 92,
   "metadata": {},
   "outputs": [],
   "source": [
    "cloud = WordCloud(stopwords=stop_words,\n",
    "                  background_color='white',\n",
    "                  width=2500,\n",
    "                  height=1800,\n",
    "                  max_words=10,\n",
    "                  colormap='tab10',\n",
    "                  color_func=lambda *args, **kwargs: cols[i],\n",
    "                  prefer_horizontal=1.0)"
   ]
  },
  {
   "cell_type": "code",
   "execution_count": 93,
   "metadata": {},
   "outputs": [],
   "source": [
    "topics = ldamallet.show_topics(formatted=False)"
   ]
  },
  {
   "cell_type": "code",
   "execution_count": 94,
   "metadata": {},
   "outputs": [
    {
     "data": {
      "image/png": "[encoded data removed]",
      "text/plain": [
       "<Figure size 720x720 with 3 Axes>"
      ]
     },
     "metadata": {
      "needs_background": "light"
     },
     "output_type": "display_data"
    }
   ],
   "source": [
    "fig, axes = plt.subplots(1, 3, figsize=(10,10), sharex=True, sharey=True)\n",
    "\n",
    "for i, ax in enumerate(axes.flatten()):\n",
    "    fig.add_subplot(ax)\n",
    "    topic_words = dict(topics[i][1])\n",
    "    cloud.generate_from_frequencies(topic_words, max_font_size=300)\n",
    "    plt.gca().imshow(cloud)\n",
    "    plt.gca().set_title('Topic ' + str(i), fontdict=dict(size=16))\n",
    "    plt.gca().axis('off')\n",
    "\n",
    "plt.subplots_adjust(wspace=0, hspace=0)\n",
    "plt.axis('off')\n",
    "plt.margins(x=0, y=0)\n",
    "plt.tight_layout()\n",
    "plt.show()"
   ]
  },
  {
   "cell_type": "markdown",
   "metadata": {},
   "source": [
    "#### Choose the right number of topics"
   ]
  },
  {
   "cell_type": "code",
   "execution_count": 95,
   "metadata": {},
   "outputs": [],
   "source": [
    "from gensim.test.utils import common_corpus, common_dictionary\n",
    "from gensim.models.coherencemodel import CoherenceModel"
   ]
  },
  {
   "cell_type": "code",
   "execution_count": null,
   "metadata": {},
   "outputs": [],
   "source": [
    "Topic_coherence_score=[]\n",
    "for i in list(range(1,15)):\n",
    "    m = gensim.models.LdaMulticore(corpus, num_topics=i, id2word =id2word, passes = 2, workers=4)\n",
    "    cm = CoherenceModel(model=m, corpus=common_corpus, coherence='u_mass')\n",
    "    coherence = cm.get_coherence()  # get coherence value\n",
    "    Topic_coherence_score.append(coherence )"
   ]
  },
  {
   "cell_type": "code",
   "execution_count": 319,
   "metadata": {},
   "outputs": [
    {
     "data": {
      "text/plain": [
       "[<matplotlib.lines.Line2D at 0x1a46e07050>]"
      ]
     },
     "execution_count": 319,
     "metadata": {},
     "output_type": "execute_result"
    },
    {
     "data": {
      "image/png": "[encoded data removed]",
      "text/plain": [
       "<Figure size 432x288 with 1 Axes>"
      ]
     },
     "metadata": {
      "needs_background": "light"
     },
     "output_type": "display_data"
    }
   ],
   "source": [
    "plt.plot(Topic_coherence_score)"
   ]
  },
  {
   "cell_type": "code",
   "execution_count": 101,
   "metadata": {},
   "outputs": [],
   "source": [
    "import gensim    \n",
    "model = gensim.models.wrappers.ldamallet.malletmodel2ldamodel(ldamallet)"
   ]
  },
  {
   "cell_type": "code",
   "execution_count": 89,
   "metadata": {},
   "outputs": [],
   "source": [
    "import pyLDAvis"
   ]
  },
  {
   "cell_type": "code",
   "execution_count": 431,
   "metadata": {},
   "outputs": [
    {
     "name": "stderr",
     "output_type": "stream",
     "text": [
      "/Applications/anaconda/envs/mypython3/lib/python3.7/site-packages/pyLDAvis/_prepare.py:223: RuntimeWarning: divide by zero encountered in log\n",
      "  kernel = (topic_given_term * np.log((topic_given_term.T / topic_proportion).T))\n",
      "/Applications/anaconda/envs/mypython3/lib/python3.7/site-packages/pyLDAvis/_prepare.py:240: RuntimeWarning: divide by zero encountered in log\n",
      "  log_lift = np.log(topic_term_dists / term_proportion)\n",
      "/Applications/anaconda/envs/mypython3/lib/python3.7/site-packages/pyLDAvis/_prepare.py:241: RuntimeWarning: divide by zero encountered in log\n",
      "  log_ttd = np.log(topic_term_dists)\n"
     ]
    },
    {
     "data": {
      "text/html": [
       "\n",
       "<link rel=\"stylesheet\" type=\"text/css\" href=\"https://cdn.rawgit.com/bmabey/pyLDAvis/files/ldavis.v1.0.0.css\">\n",
       "\n",
       "\n",
       "<div id=\"ldavis_el567221128827991841014870208\"></div>\n",
       "<script type=\"text/javascript\">\n",
       "\n",
       "var ldavis_el567221128827991841014870208_data = {\"mdsDat\": {\"x\": [-0.3455104031484387, 0.05631021112282191, 0.28920019202561675], \"y\": [0.12854373763560206, -0.35032882009056604, 0.22178508245496406], \"topics\": [1, 2, 3], \"cluster\": [1, 1, 1], \"Freq\": [35.27070907349266, 33.62828820670866, 31.10100271979867]}, \"tinfo\": {\"Category\": [\"Default\", \"Default\", \"Default\", \"Default\", \"Default\", \"Default\", \"Default\", \"Default\", \"Default\", \"Default\", \"Default\", \"Default\", \"Default\", \"Default\", \"Default\", \"Default\", \"Default\", \"Default\", \"Default\", \"Default\", \"Default\", \"Default\", \"Default\", \"Default\", \"Default\", \"Default\", \"Default\", \"Default\", \"Default\", \"Default\", \"Topic1\", \"Topic1\", \"Topic1\", \"Topic1\", \"Topic1\", \"Topic1\", \"Topic1\", \"Topic1\", \"Topic1\", \"Topic1\", \"Topic1\", \"Topic1\", \"Topic1\", \"Topic1\", \"Topic1\", \"Topic1\", \"Topic1\", \"Topic1\", \"Topic1\", \"Topic1\", \"Topic1\", \"Topic1\", \"Topic1\", \"Topic1\", \"Topic1\", \"Topic1\", \"Topic1\", \"Topic1\", \"Topic1\", \"Topic1\", \"Topic1\", \"Topic1\", \"Topic1\", \"Topic1\", \"Topic1\", \"Topic1\", \"Topic1\", \"Topic1\", \"Topic1\", \"Topic1\", \"Topic1\", \"Topic1\", \"Topic1\", \"Topic1\", \"Topic1\", \"Topic1\", \"Topic1\", \"Topic1\", \"Topic1\", \"Topic1\", \"Topic1\", \"Topic1\", \"Topic1\", \"Topic1\", \"Topic1\", \"Topic1\", \"Topic1\", \"Topic1\", \"Topic1\", \"Topic1\", \"Topic1\", \"Topic1\", \"Topic1\", \"Topic1\", \"Topic1\", \"Topic1\", \"Topic1\", \"Topic1\", \"Topic1\", \"Topic2\", \"Topic2\", \"Topic2\", \"Topic2\", \"Topic2\", \"Topic2\", \"Topic2\", \"Topic2\", \"Topic2\", \"Topic2\", \"Topic2\", \"Topic2\", \"Topic2\", \"Topic2\", \"Topic2\", \"Topic2\", \"Topic2\", \"Topic2\", \"Topic2\", \"Topic2\", \"Topic2\", \"Topic2\", \"Topic2\", \"Topic2\", \"Topic2\", \"Topic2\", \"Topic2\", \"Topic2\", \"Topic2\", \"Topic2\", \"Topic2\", \"Topic2\", \"Topic2\", \"Topic2\", \"Topic2\", \"Topic2\", \"Topic2\", \"Topic2\", \"Topic2\", \"Topic2\", \"Topic2\", \"Topic2\", \"Topic2\", \"Topic2\", \"Topic2\", \"Topic2\", \"Topic2\", \"Topic2\", \"Topic2\", \"Topic2\", \"Topic2\", \"Topic2\", \"Topic2\", \"Topic2\", \"Topic2\", \"Topic2\", \"Topic2\", \"Topic2\", \"Topic2\", \"Topic2\", \"Topic2\", \"Topic2\", \"Topic2\", \"Topic2\", \"Topic2\", \"Topic2\", \"Topic2\", \"Topic2\", \"Topic2\", \"Topic2\", \"Topic2\", \"Topic3\", \"Topic3\", \"Topic3\", \"Topic3\", \"Topic3\", \"Topic3\", \"Topic3\", \"Topic3\", \"Topic3\", \"Topic3\", \"Topic3\", \"Topic3\", \"Topic3\", \"Topic3\", \"Topic3\", \"Topic3\", \"Topic3\", \"Topic3\", \"Topic3\", \"Topic3\", \"Topic3\", \"Topic3\", \"Topic3\", \"Topic3\", \"Topic3\", \"Topic3\", \"Topic3\", \"Topic3\", \"Topic3\", \"Topic3\", \"Topic3\", \"Topic3\", \"Topic3\", \"Topic3\", \"Topic3\", \"Topic3\", \"Topic3\", \"Topic3\", \"Topic3\", \"Topic3\", \"Topic3\", \"Topic3\", \"Topic3\", \"Topic3\", \"Topic3\", \"Topic3\", \"Topic3\", \"Topic3\", \"Topic3\", \"Topic3\", \"Topic3\", \"Topic3\", \"Topic3\", \"Topic3\", \"Topic3\", \"Topic3\", \"Topic3\", \"Topic3\", \"Topic3\", \"Topic3\", \"Topic3\", \"Topic3\", \"Topic3\", \"Topic3\", \"Topic3\", \"Topic3\", \"Topic3\"], \"Freq\": [5797.0, 4978.0, 3759.0, 3724.0, 3883.0, 3598.0, 3400.0, 7475.0, 2730.0, 2526.0, 3782.0, 2006.0, 2076.0, 4433.0, 1706.0, 1600.0, 1752.0, 1735.0, 1652.0, 1590.0, 1442.0, 1358.0, 1439.0, 1285.0, 1323.0, 1211.0, 1186.0, 1281.0, 1132.0, 1111.0, 80.25679620827431, 64.96978740669825, 150.3222532154979, 75.16112660774895, 64.96978740669825, 64.96978740669825, 357.97078943690605, 180.89627081865, 64.96978740669825, 180.89627081865, 146.50050101510388, 318.47935003283453, 170.7049316175993, 159.23967501641727, 80.25679620827431, 682.8197264703972, 64.96978740669825, 379.6273852391388, 64.96978740669825, 70.0654570072236, 136.30916181405317, 75.16112660774895, 180.89627081865, 169.43101421746798, 70.0654570072236, 170.7049316175993, 64.96978740669825, 85.35246580879965, 70.0654570072236, 179.62235341851868, 5797.5980879977205, 3400.0855409505416, 2076.4853622140813, 1752.9103425807214, 1735.0754989788827, 1281.5609045321264, 1061.1731943094048, 858.620327688522, 822.9506404848445, 822.9506404848445, 727.4068354749942, 699.3806526721046, 690.4632308711854, 664.9848828685585, 658.6152958679019, 606.384682462517, 579.6324170597588, 559.2497386576575, 535.0453080551621, 504.47129045200995, 496.8277860512219, 494.2799512509592, 489.18428165043383, 471.3494380485951, 431.85799864452366, 407.6535680420282, 392.3665592404522, 389.8187244401895, 389.8187244401895, 1374.556874741714, 396.1883114408462, 1870.1107433928046, 1630.6142721681128, 1047.16010290796, 1064.9949465097989, 1472.648514551827, 678.9979742700033, 512.1147948527979, 536.3192254552933, 1.2772757859323454, 2.5545515718646907, 8.940930501526417, 1.2772757859323454, 1.2772757859323454, 1.2772757859323454, 5.1091031437293815, 1.2772757859323454, 3.831827357797036, 10.218206287458763, 1.2772757859323454, 1.2772757859323454, 12.772757859323454, 10.218206287458763, 1.2772757859323454, 1.2772757859323454, 43.427376721699744, 1.2772757859323454, 20.436412574917526, 7.663654715594072, 1.2772757859323454, 1.2772757859323454, 12.772757859323454, 1.2772757859323454, 21.713688360849872, 8.940930501526417, 34.48644622017333, 5.1091031437293815, 14.0500336452558, 16.60458521712049, 3598.085888971417, 2006.6002596997146, 1652.794866996455, 1590.20835348577, 1439.4898107457532, 1323.25771422591, 1161.043689412502, 970.7295973085825, 818.7337787826334, 789.3564357061895, 762.5336442016102, 754.8699894860162, 679.5107181160078, 660.3515813270226, 657.797029755158, 652.6879266114286, 693.5607517612635, 563.2786215961643, 478.97841972462953, 468.76021343717076, 468.76021343717076, 462.373834507509, 457.2647313637796, 448.3238008622533, 448.3238008622533, 410.0055272842829, 383.18273577970365, 369.1327021344478, 922.1931174431533, 362.74632320478605, 542.8422090212468, 454.710179791915, 3014.370854800335, 4538.160867417623, 671.8470634004136, 1037.1479381770644, 590.1014131007436, 730.6017495533015, 789.3564357061895, 808.5155724951746, 489.1966260120883, 253.4337558904663, 17.307671133983064, 33.3790800441102, 6.181311119279666, 7.417573343135599, 51.9230134019492, 14.835146686271198, 23.48898225326273, 28.43403114868646, 8.653835566991532, 8.653835566991532, 3.7087866715677995, 3.7087866715677995, 3.7087866715677995, 6.181311119279666, 8.653835566991532, 3.7087866715677995, 17.307671133983064, 6.181311119279666, 7.417573343135599, 18.543933357839, 8.653835566991532, 12.362622238559332, 6.181311119279666, 3.7087866715677995, 3.7087866715677995, 12.362622238559332, 3.7087866715677995, 7.417573343135599, 3.7087866715677995, 4978.427975467843, 3759.473422745893, 3724.8580804779267, 2526.9199855615275, 2728.4307280500448, 1706.0418689211879, 1600.9595798934333, 1442.7180152398741, 1358.6521840176706, 1285.7127128101706, 1211.5369793788145, 1186.811734901696, 1132.416197052035, 1111.399739246484, 1107.690952574916, 1080.4931836500855, 995.1910902040263, 838.1857877743226, 822.1143788641956, 694.7793698070344, 613.1860630325428, 610.713538584831, 558.7905251828818, 556.3180007351699, 552.609214063602, 547.6641651681784, 542.7191162727547, 3806.451387252418, 492.03236509466143, 469.7796450652546, 2974.4469105973753, 2041.0689315861457, 2937.3590438816973, 1132.416197052035, 1419.2290329866112, 944.504339025933, 691.0705831354667], \"Term\": [\"surgery\", \"staff\", \"care\", \"great\", \"good\", \"office\", \"result\", \"doctor\", \"recommend\", \"experience\", \"patient\", \"find\", \"procedure\", \"time\", \"professional\", \"question\", \"happy\", \"surgeon\", \"call\", \"visit\", \"excellent\", \"wonderful\", \"appointment\", \"love\", \"dentist\", \"knowledgeable\", \"kind\", \"life\", \"extremely\", \"helpful\", \"good_hand\", \"night\", \"swell\", \"specific\", \"unbelievable\", \"shock\", \"skill\", \"choice\", \"tired\", \"rest\", \"close\", \"full\", \"thrill\", \"size\", \"doubt\", \"consultation\", \"cheek\", \"live\", \"game\", \"country\", \"difference\", \"cast\", \"mother\", \"large\", \"laser\", \"impress\", \"excited\", \"amazed\", \"tip\", \"glad\", \"surgery\", \"result\", \"procedure\", \"happy\", \"surgeon\", \"life\", \"perform\", \"face\", \"team\", \"hand\", \"meet\", \"natural\", \"recovery\", \"walk\", \"change\", \"nose\", \"start\", \"remove\", \"decide\", \"confident\", \"eye\", \"beautiful\", \"completely\", \"expect\", \"choose\", \"option\", \"finally\", \"body\", \"research\", \"pain\", \"scar\", \"feel\", \"work\", \"back\", \"give\", \"make\", \"amazing\", \"put\", \"friend\", \"amzae\", \"painstakingly\", \"twenty\", \"availbale\", \"inclusion\", \"empower\", \"excellent_diagnostician\", \"nyc\", \"gentlest\", \"started_seeing\", \"manifest\", \"impart\", \"intellectual\", \"skillfully\", \"expecte\", \"plaque\", \"chair\", \"coaching\", \"slowly\", \"development\", \"progression\", \"firmly\", \"questions_patiently\", \"myotectomy\", \"transparent\", \"robotic\", \"invasive\", \"helping\", \"statement\", \"relevant\", \"office\", \"find\", \"call\", \"visit\", \"appointment\", \"dentist\", \"wait\", \"problem\", \"thing\", \"leave\", \"treat\", \"nice\", \"bad\", \"insurance\", \"tooth\", \"issue\", \"talk\", \"refer\", \"hospital\", \"schedule\", \"check\", \"pay\", \"speak\", \"rush\", \"test\", \"clean\", \"end\", \"health\", \"treatment\", \"deal\", \"spend\", \"job\", \"time\", \"doctor\", \"explain\", \"give\", \"follow\", \"back\", \"work\", \"patient\", \"people\", \"address\", \"operating_room\", \"superb\", \"summary\", \"volunteer\", \"trustworthy\", \"candid\", \"respected\", \"consistent\", \"postop\", \"thoroughness\", \"disorganized\", \"donate\", \"already_referred\", \"likewise\", \"satisfactory\", \"sucess\", \"teeth_whitene\", \"highest_quality\", \"unprecedented\", \"language\", \"dermatology\", \"nurture\", \"hugely\", \"tier\", \"shah\", \"spirit\", \"tail\", \"radio\", \"hostility\", \"staff\", \"care\", \"great\", \"experience\", \"recommend\", \"professional\", \"question\", \"excellent\", \"wonderful\", \"love\", \"knowledgeable\", \"kind\", \"extremely\", \"helpful\", \"friendly\", \"concern\", \"answer\", \"listen\", \"family\", \"highly_recommend\", \"physician\", \"manner\", \"ease\", \"feel_comfortable\", \"compassionate\", \"comfortable\", \"deliver\", \"good\", \"provide\", \"pregnancy\", \"patient\", \"make\", \"doctor\", \"amazing\", \"time\", \"feel\", \"friend\"], \"Total\": [5797.0, 4978.0, 3759.0, 3724.0, 3883.0, 3598.0, 3400.0, 7475.0, 2730.0, 2526.0, 3782.0, 2006.0, 2076.0, 4433.0, 1706.0, 1600.0, 1752.0, 1735.0, 1652.0, 1590.0, 1442.0, 1358.0, 1439.0, 1285.0, 1323.0, 1211.0, 1186.0, 1281.0, 1132.0, 1111.0, 80.25679620827431, 64.96978740669825, 150.3222532154979, 75.16112660774895, 64.96978740669825, 64.96978740669825, 357.97078943690605, 180.89627081865, 64.96978740669825, 180.89627081865, 146.50050101510388, 318.47935003283453, 170.7049316175993, 159.23967501641727, 80.25679620827431, 682.8197264703972, 64.96978740669825, 379.6273852391388, 64.96978740669825, 70.0654570072236, 136.30916181405317, 75.16112660774895, 180.89627081865, 169.43101421746798, 70.0654570072236, 170.7049316175993, 64.96978740669825, 85.35246580879965, 70.0654570072236, 179.62235341851868, 5797.5980879977205, 3400.0855409505416, 2076.4853622140813, 1752.9103425807214, 1735.0754989788827, 1281.5609045321264, 1061.1731943094048, 858.620327688522, 822.9506404848445, 822.9506404848445, 727.4068354749942, 699.3806526721046, 690.4632308711854, 664.9848828685585, 658.6152958679019, 606.384682462517, 579.6324170597588, 559.2497386576575, 535.0453080551621, 504.47129045200995, 496.8277860512219, 494.2799512509592, 489.18428165043383, 471.3494380485951, 431.85799864452366, 407.6535680420282, 392.3665592404522, 389.8187244401895, 389.8187244401895, 1769.2350925948087, 397.4655872267785, 2814.6150824187375, 2419.970707874302, 1778.9981146851173, 2102.142884686863, 3794.718119043089, 1811.4141713220383, 727.9744026753642, 1227.38980859076, 1.2772757859323454, 2.5545515718646907, 8.940930501526417, 1.2772757859323454, 1.2772757859323454, 1.2772757859323454, 5.1091031437293815, 1.2772757859323454, 3.831827357797036, 10.218206287458763, 1.2772757859323454, 1.2772757859323454, 12.772757859323454, 10.218206287458763, 1.2772757859323454, 1.2772757859323454, 43.427376721699744, 1.2772757859323454, 20.436412574917526, 7.663654715594072, 1.2772757859323454, 1.2772757859323454, 12.772757859323454, 1.2772757859323454, 21.713688360849872, 8.940930501526417, 34.48644622017333, 5.1091031437293815, 14.0500336452558, 16.60458521712049, 3598.085888971417, 2006.6002596997146, 1652.794866996455, 1590.20835348577, 1439.4898107457532, 1323.25771422591, 1161.043689412502, 970.7295973085825, 818.7337787826334, 789.3564357061895, 762.5336442016102, 754.8699894860162, 679.5107181160078, 660.3515813270226, 657.797029755158, 652.6879266114286, 694.8346691613949, 563.2786215961643, 478.97841972462953, 468.76021343717076, 468.76021343717076, 462.373834507509, 457.2647313637796, 448.3238008622533, 448.3238008622533, 410.0055272842829, 383.18273577970365, 369.1327021344478, 930.8469530101448, 362.74632320478605, 547.9378786217721, 462.353684192703, 4433.599887786946, 7475.5199112993205, 912.8179487099592, 2102.142884686863, 960.811376538963, 1778.9981146851173, 2419.970707874302, 3782.96248309255, 675.1885664312637, 253.4337558904663, 17.307671133983064, 33.3790800441102, 6.181311119279666, 7.417573343135599, 51.9230134019492, 14.835146686271198, 23.48898225326273, 28.43403114868646, 8.653835566991532, 8.653835566991532, 3.7087866715677995, 3.7087866715677995, 3.7087866715677995, 6.181311119279666, 8.653835566991532, 3.7087866715677995, 17.307671133983064, 6.181311119279666, 7.417573343135599, 18.543933357839, 8.653835566991532, 12.362622238559332, 6.181311119279666, 3.7087866715677995, 3.7087866715677995, 12.362622238559332, 3.7087866715677995, 7.417573343135599, 3.7087866715677995, 4978.427975467843, 3759.473422745893, 3724.8580804779267, 2526.9199855615275, 2730.9852796219093, 1706.0418689211879, 1600.9595798934333, 1442.7180152398741, 1358.6521840176706, 1285.7127128101706, 1211.5369793788145, 1186.811734901696, 1132.416197052035, 1111.399739246484, 1107.690952574916, 1080.4931836500855, 995.1910902040263, 838.1857877743226, 822.1143788641956, 694.7793698070344, 613.1860630325428, 610.713538584831, 558.7905251828818, 556.3180007351699, 552.609214063602, 547.6641651681784, 542.7191162727547, 3883.0879344083587, 492.03236509466143, 469.7796450652546, 3782.96248309255, 3794.718119043089, 7475.5199112993205, 1811.4141713220383, 4433.599887786946, 2814.6150824187375, 1227.38980859076], \"loglift\": [30.0, 29.0, 28.0, 27.0, 26.0, 25.0, 24.0, 23.0, 22.0, 21.0, 20.0, 19.0, 18.0, 17.0, 16.0, 15.0, 14.0, 13.0, 12.0, 11.0, 10.0, 9.0, 8.0, 7.0, 6.0, 5.0, 4.0, 3.0, 2.0, 1.0, 1.0421, 1.0421, 1.0421, 1.0421, 1.0421, 1.0421, 1.0421, 1.0421, 1.0421, 1.0421, 1.0421, 1.0421, 1.0421, 1.0421, 1.0421, 1.0421, 1.0421, 1.0421, 1.0421, 1.0421, 1.0421, 1.0421, 1.0421, 1.0421, 1.0421, 1.0421, 1.0421, 1.0421, 1.0421, 1.0421, 1.0421, 1.0421, 1.0421, 1.0421, 1.0421, 1.0421, 1.0421, 1.0421, 1.0421, 1.0421, 1.0421, 1.0421, 1.0421, 1.0421, 1.0421, 1.0421, 1.0421, 1.0421, 1.0421, 1.0421, 1.0421, 1.0421, 1.0421, 1.0421, 1.0421, 1.0421, 1.0421, 1.0421, 1.0421, 0.7897, 1.0389, 0.6333, 0.6473, 0.5121, 0.3621, 0.0956, 0.0609, 0.6904, 0.2142, 1.0898, 1.0898, 1.0898, 1.0898, 1.0898, 1.0898, 1.0898, 1.0898, 1.0898, 1.0898, 1.0898, 1.0898, 1.0898, 1.0898, 1.0898, 1.0898, 1.0898, 1.0898, 1.0898, 1.0898, 1.0898, 1.0898, 1.0898, 1.0898, 1.0898, 1.0898, 1.0898, 1.0898, 1.0898, 1.0898, 1.0898, 1.0898, 1.0898, 1.0898, 1.0898, 1.0898, 1.0898, 1.0898, 1.0898, 1.0898, 1.0898, 1.0898, 1.0898, 1.0898, 1.0898, 1.0898, 1.088, 1.0898, 1.0898, 1.0898, 1.0898, 1.0898, 1.0898, 1.0898, 1.0898, 1.0898, 1.0898, 1.0898, 1.0805, 1.0898, 1.0805, 1.0731, 0.704, 0.5907, 0.7833, 0.3833, 0.6023, 0.1999, -0.0305, -0.4533, 0.7676, 1.1679, 1.1679, 1.1679, 1.1679, 1.1679, 1.1679, 1.1679, 1.1679, 1.1679, 1.1679, 1.1679, 1.1679, 1.1679, 1.1679, 1.1679, 1.1679, 1.1679, 1.1679, 1.1679, 1.1679, 1.1679, 1.1679, 1.1679, 1.1679, 1.1679, 1.1679, 1.1679, 1.1679, 1.1679, 1.1679, 1.1679, 1.1679, 1.1679, 1.1679, 1.167, 1.1679, 1.1679, 1.1679, 1.1679, 1.1679, 1.1679, 1.1679, 1.1679, 1.1679, 1.1679, 1.1679, 1.1679, 1.1679, 1.1679, 1.1679, 1.1679, 1.1679, 1.1679, 1.1679, 1.1679, 1.1679, 1.1679, 1.148, 1.1679, 1.1679, 0.9275, 0.5478, 0.2338, 0.6982, 0.0288, 0.076, 0.5935], \"logprob\": [30.0, 29.0, 28.0, 27.0, 26.0, 25.0, 24.0, 23.0, 22.0, 21.0, 20.0, 19.0, 18.0, 17.0, 16.0, 15.0, 14.0, 13.0, 12.0, 11.0, 10.0, 9.0, 8.0, 7.0, 6.0, 5.0, 4.0, 3.0, 2.0, 1.0, -7.2386, -7.4499, -6.6111, -7.3042, -7.4499, -7.4499, -5.7434, -6.4259, -7.4499, -6.4259, -6.6368, -5.8603, -6.4839, -6.5534, -7.2386, -5.0976, -7.4499, -5.6847, -7.4499, -7.3744, -6.7089, -7.3042, -6.4259, -6.4914, -7.3744, -6.4839, -7.4499, -7.1771, -7.3744, -6.433, -2.9586, -3.4923, -3.9854, -4.1548, -4.165, -4.468, -4.6567, -4.8685, -4.9109, -4.9109, -5.0344, -5.0736, -5.0865, -5.1241, -5.1337, -5.2163, -5.2614, -5.2972, -5.3415, -5.4003, -5.4156, -5.4207, -5.4311, -5.4682, -5.5557, -5.6134, -5.6516, -5.6582, -5.6582, -4.398, -5.642, -4.0901, -4.2271, -4.67, -4.6531, -4.329, -5.1032, -5.3853, -5.3391, -11.3314, -10.6383, -9.3855, -11.3314, -11.3314, -11.3314, -9.9451, -11.3314, -10.2328, -9.252, -11.3314, -11.3314, -9.0288, -9.252, -11.3314, -11.3314, -7.8051, -11.3314, -8.5588, -9.5397, -11.3314, -11.3314, -9.0288, -11.3314, -8.4982, -9.3855, -8.0356, -9.9451, -8.9335, -8.7665, -3.388, -3.972, -4.1659, -4.2045, -4.3041, -4.3883, -4.5191, -4.6981, -4.8684, -4.9049, -4.9395, -4.9496, -5.0548, -5.0834, -5.0873, -5.0951, -5.0343, -5.2424, -5.4045, -5.4261, -5.4261, -5.4398, -5.4509, -5.4706, -5.4706, -5.56, -5.6276, -5.665, -4.7494, -5.6825, -5.2793, -5.4565, -3.565, -3.1559, -5.0661, -4.6319, -5.1959, -4.9823, -4.9049, -4.881, -5.3834, -5.9629, -8.6469, -7.9901, -9.6765, -9.4942, -7.5483, -8.801, -8.3415, -8.1504, -9.34, -9.34, -10.1873, -10.1873, -10.1873, -9.6765, -9.34, -10.1873, -8.6469, -9.6765, -9.4942, -8.5779, -9.34, -8.9834, -9.6765, -10.1873, -10.1873, -8.9834, -10.1873, -9.4942, -10.1873, -2.9852, -3.266, -3.2752, -3.6633, -3.5865, -4.0561, -4.1197, -4.2237, -4.2838, -4.339, -4.3984, -4.419, -4.4659, -4.4847, -4.488, -4.5129, -4.5951, -4.7668, -4.7861, -4.9544, -5.0794, -5.0834, -5.1723, -5.1767, -5.1834, -5.1924, -5.2014, -3.2536, -5.2995, -5.3458, -3.5002, -3.8768, -3.5128, -4.4659, -4.2402, -4.6474, -4.9598]}, \"token.table\": {\"Topic\": [3, 3, 1, 1, 3, 2, 3, 2, 2, 1, 2, 3, 2, 1, 1, 2, 3, 3, 1, 2, 1, 2, 1, 1, 1, 2, 1, 2, 3, 3, 1, 3, 1, 3, 1, 1, 2, 1, 3, 2, 3, 2, 1, 3, 2, 3, 3, 1, 3, 2, 2, 3, 2, 1, 1, 2, 3, 1, 2, 3, 3, 1, 1, 3, 1, 3, 3, 1, 2, 2, 1, 2, 1, 3, 3, 1, 1, 2, 1, 2, 1, 2, 3, 1, 3, 1, 1, 2, 3, 2, 3, 3, 2, 3, 3, 2, 1, 2, 2, 2, 2, 2, 1, 2, 3, 3, 3, 1, 1, 2, 1, 3, 3, 1, 3, 1, 2, 3, 2, 3, 1, 1, 2, 1, 2, 1, 1, 3, 2, 2, 3, 1, 1, 2, 2, 2, 3, 2, 1, 2, 1, 3, 2, 3, 3, 2, 1, 3, 2, 3, 1, 2, 3, 2, 3, 2, 3, 1, 2, 2, 1, 1, 3, 1, 1, 2, 2, 3, 1, 2, 2, 3, 1, 1, 1, 2, 2, 2, 1, 1, 2, 3, 3, 1, 2, 2, 3, 3, 3, 1, 1, 1, 3, 1, 2, 1, 3, 2, 2, 3, 1, 3, 2, 3, 1, 1, 2, 2, 2, 2, 3, 3, 2, 1, 3, 2, 3, 2, 1, 3, 1, 2], \"Freq\": [0.9982884841486792, 1.0785198379471896, 0.9958704671803013, 0.3748452511577958, 0.6249261035502575, 0.7829162746321474, 0.9998079864199878, 0.9996597330928662, 0.7829162746321474, 0.5885335073473751, 0.4109054382721406, 0.0005621141426431472, 1.0007200502816922, 0.9994336180331598, 1.000465025275712, 1.00012411280289, 1.0111123480754902, 0.999874072059393, 0.9978562507639109, 0.9901588179171276, 1.0005841105338908, 1.000511533521736, 1.0004650252757121, 1.0005734180195123, 1.0003288149250957, 0.999986519000562, 1.003409537724684, 0.7829162746321474, 1.0006132130841872, 1.0007071650751609, 0.9996232878746388, 0.9995435569075786, 0.9990657734921096, 0.9847355042126514, 1.000264013359038, 0.9990657734921097, 1.0006993228572871, 0.9999153192178681, 1.0005175489840386, 0.9998052426045665, 1.0400012723062186, 1.0438883661761966, 0.997731907305872, 1.0785198379471896, 0.6070480787751992, 0.39288237271105336, 1.0785198379471896, 0.99680031822342, 1.0003748718127419, 0.7829162746321474, 0.999523110613708, 1.0001954538289168, 0.9786453432901843, 1.0004650252757121, 0.9992586433325522, 0.7829162746321474, 1.0000316648089096, 0.0876406956206986, 0.7361818432138683, 0.17637689993665592, 0.9996324698877335, 1.0003466270478687, 1.0004421888222703, 0.9998608723224698, 0.6643892487043084, 0.3357475080350649, 0.9994283831643958, 0.9990657734921096, 1.0001992127222914, 0.7829162746321474, 0.3861319808019104, 0.6140643360461648, 0.4366990798264928, 0.5629833286569151, 1.0002790014889673, 0.9984948787643999, 1.0004650252757121, 1.0438883661761966, 0.5066258853087635, 0.49330614372318105, 1.0021024475756724, 0.01982957926800903, 0.9801477752473035, 0.99680031822342, 1.000038100652161, 1.0000599787067745, 1.0000511477496028, 0.9996405029040221, 0.9996403281084492, 0.9786453432901843, 0.9706678541524706, 1.0003175543237948, 1.0000450547967963, 1.0785198379471896, 0.9706678541524706, 0.7829162746321474, 1.0017285287519502, 0.7829162746321474, 0.9994675846367839, 1.0177911570217917, 0.9858945680552966, 1.0004781356845247, 0.017302771176071572, 0.9840951106390707, 1.000158630971339, 1.0003821762183627, 1.02459384604983, 0.9974561079064618, 0.9990657734921097, 0.9995484477099745, 1.0003426255173054, 0.9706678541524706, 0.9997783453537001, 1.0009815276119411, 1.0002234458654464, 0.38817112465034564, 0.07405029601272717, 0.537852861786392, 0.7829162746321474, 1.0004690602010113, 0.9994407043553165, 1.0005734180195123, 0.7829162746321474, 0.999455728907212, 1.0001722290139954, 1.0004650252757121, 0.9993656131600244, 0.9706678541524706, 0.7829162746321474, 0.9999761292603715, 0.982223423844762, 1.0008498195162028, 0.7771720139144354, 0.22326032399723778, 1.1743744119482211, 0.21385356149201015, 0.7861563558433105, 0.9991914886189285, 0.27547859849450723, 0.7242421218484625, 0.9998367897810333, 0.9996965635004444, 0.7829162746321474, 1.0400012723062186, 1.0004690602010113, 1.000278556141862, 0.9997662578205879, 0.9999754584445139, 0.7829162746321474, 0.9999342216143542, 0.7033214328942872, 0.2967137295022774, 1.0000252474247784, 1.0177911570217917, 0.9437048582037909, 0.001098504639474049, 0.9989068854950685, 0.9993291013185439, 0.9995053574102019, 1.0238135899035774, 0.9995534398312693, 1.000465025275712, 0.9791824844520538, 1.0005734180195123, 0.999974841529864, 1.006606638812761, 0.9992777522370427, 1.0400012723062186, 0.9963126688853636, 0.0025159410830438477, 1.000511533521736, 1.0785198379471896, 1.0004650252757121, 0.9984948787643999, 1.0000816004097426, 0.9786453432901843, 0.9786453432901843, 0.9994210544885234, 0.9978562507639109, 0.00912512201670835, 0.9909882510145267, 0.9706678541524706, 0.9999140340143612, 1.0006341656012026, 0.9786453432901843, 0.9964388949863694, 1.0785198379471896, 0.9706678541524706, 0.9886431847849239, 0.9999564866318917, 1.0000693238814038, 0.9978562507639109, 1.0785198379471896, 0.0014391912844632711, 0.9987987514175102, 1.0000599787067745, 0.982223423844762, 0.9992777522370427, 1.0003251621275018, 1.0400012723062186, 1.0017285287519502, 1.0785198379471896, 0.6798087505150252, 0.3200559445855411, 0.9990657734921097, 1.0004650252757121, 1.000308560597967, 1.0131857671710143, 1.0006115871764296, 0.990495802793858, 0.009668614127055013, 1.0014827066652474, 1.006606638812761, 1.0004650252757121, 0.9437048582037909, 0.9998689772410557, 0.9437048582037909, 0.9999623705697722, 1.000022733045263, 1.0002560007531147, 0.6739751000674993, 0.3260370042631864], \"Term\": [\"address\", \"already_referred\", \"amazed\", \"amazing\", \"amazing\", \"amzae\", \"answer\", \"appointment\", \"availbale\", \"back\", \"back\", \"back\", \"bad\", \"beautiful\", \"body\", \"call\", \"candid\", \"care\", \"cast\", \"chair\", \"change\", \"check\", \"cheek\", \"choice\", \"choose\", \"clean\", \"close\", \"coaching\", \"comfortable\", \"compassionate\", \"completely\", \"concern\", \"confident\", \"consistent\", \"consultation\", \"country\", \"deal\", \"decide\", \"deliver\", \"dentist\", \"dermatology\", \"development\", \"difference\", \"disorganized\", \"doctor\", \"doctor\", \"donate\", \"doubt\", \"ease\", \"empower\", \"end\", \"excellent\", \"excellent_diagnostician\", \"excited\", \"expect\", \"expecte\", \"experience\", \"explain\", \"explain\", \"explain\", \"extremely\", \"eye\", \"face\", \"family\", \"feel\", \"feel\", \"feel_comfortable\", \"finally\", \"find\", \"firmly\", \"follow\", \"follow\", \"friend\", \"friend\", \"friendly\", \"full\", \"game\", \"gentlest\", \"give\", \"give\", \"glad\", \"good\", \"good\", \"good_hand\", \"great\", \"hand\", \"happy\", \"health\", \"helpful\", \"helping\", \"highest_quality\", \"highly_recommend\", \"hospital\", \"hostility\", \"hugely\", \"impart\", \"impress\", \"inclusion\", \"insurance\", \"intellectual\", \"invasive\", \"issue\", \"job\", \"job\", \"kind\", \"knowledgeable\", \"language\", \"large\", \"laser\", \"leave\", \"life\", \"likewise\", \"listen\", \"live\", \"love\", \"make\", \"make\", \"make\", \"manifest\", \"manner\", \"meet\", \"mother\", \"myotectomy\", \"natural\", \"nice\", \"night\", \"nose\", \"nurture\", \"nyc\", \"office\", \"operating_room\", \"option\", \"pain\", \"pain\", \"painstakingly\", \"patient\", \"patient\", \"pay\", \"people\", \"people\", \"perform\", \"physician\", \"plaque\", \"postop\", \"pregnancy\", \"problem\", \"procedure\", \"professional\", \"progression\", \"provide\", \"put\", \"put\", \"question\", \"questions_patiently\", \"radio\", \"recommend\", \"recommend\", \"recovery\", \"refer\", \"relevant\", \"remove\", \"research\", \"respected\", \"rest\", \"result\", \"robotic\", \"rush\", \"satisfactory\", \"scar\", \"scar\", \"schedule\", \"shah\", \"shock\", \"size\", \"skill\", \"skillfully\", \"slowly\", \"speak\", \"specific\", \"spend\", \"spend\", \"spirit\", \"staff\", \"start\", \"started_seeing\", \"statement\", \"sucess\", \"summary\", \"superb\", \"surgeon\", \"surgery\", \"swell\", \"tail\", \"talk\", \"talk\", \"team\", \"teeth_whitene\", \"test\", \"thing\", \"thoroughness\", \"thrill\", \"tier\", \"time\", \"time\", \"tip\", \"tired\", \"tooth\", \"transparent\", \"treat\", \"treatment\", \"treatment\", \"trustworthy\", \"twenty\", \"unbelievable\", \"unprecedented\", \"visit\", \"volunteer\", \"wait\", \"walk\", \"wonderful\", \"work\", \"work\"]}, \"R\": 30, \"lambda.step\": 0.01, \"plot.opts\": {\"xlab\": \"PC1\", \"ylab\": \"PC2\"}, \"topic.order\": [1, 2, 3]};\n",
       "\n",
       "function LDAvis_load_lib(url, callback){\n",
       "  var s = document.createElement('script');\n",
       "  s.src = url;\n",
       "  s.async = true;\n",
       "  s.onreadystatechange = s.onload = callback;\n",
       "  s.onerror = function(){console.warn(\"failed to load library \" + url);};\n",
       "  document.getElementsByTagName(\"head\")[0].appendChild(s);\n",
       "}\n",
       "\n",
       "if(typeof(LDAvis) !== \"undefined\"){\n",
       "   // already loaded: just create the visualization\n",
       "   !function(LDAvis){\n",
       "       new LDAvis(\"#\" + \"ldavis_el567221128827991841014870208\", ldavis_el567221128827991841014870208_data);\n",
       "   }(LDAvis);\n",
       "}else if(typeof define === \"function\" && define.amd){\n",
       "   // require.js is available: use it to load d3/LDAvis\n",
       "   require.config({paths: {d3: \"https://cdnjs.cloudflare.com/ajax/libs/d3/3.5.5/d3.min\"}});\n",
       "   require([\"d3\"], function(d3){\n",
       "      window.d3 = d3;\n",
       "      LDAvis_load_lib(\"https://cdn.rawgit.com/bmabey/pyLDAvis/files/ldavis.v1.0.0.js\", function(){\n",
       "        new LDAvis(\"#\" + \"ldavis_el567221128827991841014870208\", ldavis_el567221128827991841014870208_data);\n",
       "      });\n",
       "    });\n",
       "}else{\n",
       "    // require.js not available: dynamically load d3 & LDAvis\n",
       "    LDAvis_load_lib(\"https://cdnjs.cloudflare.com/ajax/libs/d3/3.5.5/d3.min.js\", function(){\n",
       "         LDAvis_load_lib(\"https://cdn.rawgit.com/bmabey/pyLDAvis/files/ldavis.v1.0.0.js\", function(){\n",
       "                 new LDAvis(\"#\" + \"ldavis_el567221128827991841014870208\", ldavis_el567221128827991841014870208_data);\n",
       "            })\n",
       "         });\n",
       "}\n",
       "</script>"
      ],
      "text/plain": [
       "PreparedData(topic_coordinates=             x         y  topics  cluster       Freq\n",
       "topic                                               \n",
       "0     -0.34551  0.128544       1        1  35.270709\n",
       "1      0.05631 -0.350329       2        1  33.628288\n",
       "2      0.28920  0.221785       3        1  31.101003, topic_info=    Category         Freq     Term        Total  loglift  logprob\n",
       "908  Default  5797.000000  surgery  5797.000000  30.0000  30.0000\n",
       "168  Default  4978.000000    staff  4978.000000  29.0000  29.0000\n",
       "3    Default  3759.000000     care  3759.000000  28.0000  28.0000\n",
       "114  Default  3724.000000    great  3724.000000  27.0000  27.0000\n",
       "46   Default  3883.000000     good  3883.000000  26.0000  26.0000\n",
       "..       ...          ...      ...          ...      ...      ...\n",
       "31    Topic3  2937.359044   doctor  7475.519911   0.2338  -3.5128\n",
       "85    Topic3  1132.416197  amazing  1811.414171   0.6982  -4.4659\n",
       "42    Topic3  1419.229033     time  4433.599888   0.0288  -4.2402\n",
       "16    Topic3   944.504339     feel  2814.615082   0.0760  -4.6474\n",
       "34    Topic3   691.070583   friend  1227.389809   0.5935  -4.9598\n",
       "\n",
       "[237 rows x 6 columns], token_table=      Topic      Freq              Term\n",
       "term                                   \n",
       "1         3  0.998288           address\n",
       "5001      3  1.078520  already_referred\n",
       "3796      1  0.995870            amazed\n",
       "85        1  0.374845           amazing\n",
       "85        3  0.624926           amazing\n",
       "...     ...       ...               ...\n",
       "248       2  0.999962              wait\n",
       "664       1  1.000023              walk\n",
       "469       3  1.000256         wonderful\n",
       "77        1  0.673975              work\n",
       "77        2  0.326037              work\n",
       "\n",
       "[222 rows x 3 columns], R=30, lambda_step=0.01, plot_opts={'xlab': 'PC1', 'ylab': 'PC2'}, topic_order=[1, 2, 3])"
      ]
     },
     "execution_count": 431,
     "metadata": {},
     "output_type": "execute_result"
    }
   ],
   "source": [
    "pyLDAvis.enable_notebook()\n",
    "vis = pyLDAvis.gensim.prepare(model, corpus, id2word)\n",
    "vis"
   ]
  },
  {
   "cell_type": "code",
   "execution_count": 102,
   "metadata": {},
   "outputs": [],
   "source": [
    "### Assign to the topic based on the similarity \n",
    "def format_topics_sentences(ldamodel, corpus, texts):\n",
    "    # Init output\n",
    "    sent_topics_df = pd.DataFrame()\n",
    "\n",
    "    # Get main topic in each document\n",
    "    for i, row_list in enumerate(ldamodel[corpus]):\n",
    "        row = row_list[0] if ldamodel.per_word_topics else row_list            \n",
    "        # print(row)\n",
    "        row = sorted(row, key=lambda x: (x[1]), reverse=True)\n",
    "        # Get the Dominant topic, Perc Contribution and Keywords for each document\n",
    "        for j, (topic_num, prop_topic) in enumerate(row):\n",
    "            if j == 0:  # => dominant topic\n",
    "                wp = ldamodel.show_topic(topic_num)\n",
    "                topic_keywords = \", \".join([word for word, prop in wp])\n",
    "                sent_topics_df = sent_topics_df.append(pd.Series([int(topic_num), round(prop_topic,4), topic_keywords]), ignore_index=True)\n",
    "            else:\n",
    "                break\n",
    "    sent_topics_df.columns = ['Dominant_Topic', 'Perc_Contribution', 'Topic_Keywords']\n",
    "\n",
    "    # Add original text to the end of the output\n",
    "    contents = pd.Series(texts)\n",
    "    sent_topics_df = pd.concat([sent_topics_df, contents], axis=1)\n",
    "    return(sent_topics_df)"
   ]
  },
  {
   "cell_type": "code",
   "execution_count": 103,
   "metadata": {},
   "outputs": [
    {
     "data": {
      "text/plain": [
       "Index(['Unnamed: 0', 'Name', 'Speciality', 'Star Rating', 'Staff',\n",
       "       'Punctuality', 'Helpfulness', 'Knowledge', 'comment',\n",
       "       'Rating Usefulness', 'Review Date', 'Link', 'text_length',\n",
       "       'trim_comment'],\n",
       "      dtype='object')"
      ]
     },
     "execution_count": 103,
     "metadata": {},
     "output_type": "execute_result"
    }
   ],
   "source": [
    "data_new.columns"
   ]
  },
  {
   "cell_type": "code",
   "execution_count": 104,
   "metadata": {},
   "outputs": [],
   "source": [
    "df_topic_sents_keywords = format_topics_sentences(ldamodel=model, corpus=corpus,texts=texts)"
   ]
  },
  {
   "cell_type": "code",
   "execution_count": 105,
   "metadata": {},
   "outputs": [],
   "source": [
    "df_dominant_topic = df_topic_sents_keywords.reset_index()\n",
    "df_dominant_topic.columns = ['Document_No', 'Dominant_Topic', 'Topic_Perc_Contrib', 'Keywords', 'Text']"
   ]
  },
  {
   "cell_type": "code",
   "execution_count": 106,
   "metadata": {},
   "outputs": [
    {
     "data": {
      "text/html": [
       "<div>\n",
       "<style scoped>\n",
       "    .dataframe tbody tr th:only-of-type {\n",
       "        vertical-align: middle;\n",
       "    }\n",
       "\n",
       "    .dataframe tbody tr th {\n",
       "        vertical-align: top;\n",
       "    }\n",
       "\n",
       "    .dataframe thead th {\n",
       "        text-align: right;\n",
       "    }\n",
       "</style>\n",
       "<table border=\"1\" class=\"dataframe\">\n",
       "  <thead>\n",
       "    <tr style=\"text-align: right;\">\n",
       "      <th></th>\n",
       "      <th>Document_No</th>\n",
       "      <th>Dominant_Topic</th>\n",
       "      <th>Topic_Perc_Contrib</th>\n",
       "      <th>Keywords</th>\n",
       "      <th>Text</th>\n",
       "    </tr>\n",
       "  </thead>\n",
       "  <tbody>\n",
       "    <tr>\n",
       "      <td>0</td>\n",
       "      <td>0</td>\n",
       "      <td>2.0</td>\n",
       "      <td>0.3777</td>\n",
       "      <td>staff, care, doctor, patient, office, time, go...</td>\n",
       "      <td>[think, extremely, care, attentive, need, thor...</td>\n",
       "    </tr>\n",
       "    <tr>\n",
       "      <td>1</td>\n",
       "      <td>1</td>\n",
       "      <td>2.0</td>\n",
       "      <td>0.3602</td>\n",
       "      <td>staff, care, doctor, patient, office, time, go...</td>\n",
       "      <td>[friendly, punctual, super, email, lab, result...</td>\n",
       "    </tr>\n",
       "    <tr>\n",
       "      <td>2</td>\n",
       "      <td>2</td>\n",
       "      <td>2.0</td>\n",
       "      <td>0.3879</td>\n",
       "      <td>staff, care, doctor, patient, office, time, go...</td>\n",
       "      <td>[experience, doctor, past_experiences, see, ti...</td>\n",
       "    </tr>\n",
       "    <tr>\n",
       "      <td>3</td>\n",
       "      <td>3</td>\n",
       "      <td>2.0</td>\n",
       "      <td>0.3933</td>\n",
       "      <td>staff, care, doctor, patient, office, time, go...</td>\n",
       "      <td>[knowledgeable, friendly, manner, highly_recom...</td>\n",
       "    </tr>\n",
       "    <tr>\n",
       "      <td>4</td>\n",
       "      <td>4</td>\n",
       "      <td>2.0</td>\n",
       "      <td>0.3933</td>\n",
       "      <td>staff, care, doctor, patient, office, time, go...</td>\n",
       "      <td>[knowledgeable, friendly, manner, highly_recom...</td>\n",
       "    </tr>\n",
       "    <tr>\n",
       "      <td>5</td>\n",
       "      <td>5</td>\n",
       "      <td>2.0</td>\n",
       "      <td>0.3911</td>\n",
       "      <td>staff, care, doctor, patient, office, time, go...</td>\n",
       "      <td>[excellent, physician, exceptional, bedside_ma...</td>\n",
       "    </tr>\n",
       "    <tr>\n",
       "      <td>6</td>\n",
       "      <td>6</td>\n",
       "      <td>2.0</td>\n",
       "      <td>0.3678</td>\n",
       "      <td>staff, care, doctor, patient, office, time, go...</td>\n",
       "      <td>[see, schleider, extremely, thorough, attentiv...</td>\n",
       "    </tr>\n",
       "    <tr>\n",
       "      <td>7</td>\n",
       "      <td>7</td>\n",
       "      <td>2.0</td>\n",
       "      <td>0.3980</td>\n",
       "      <td>staff, care, doctor, patient, office, time, go...</td>\n",
       "      <td>[fantastic, service, friendly, knowledgeable, ...</td>\n",
       "    </tr>\n",
       "    <tr>\n",
       "      <td>8</td>\n",
       "      <td>8</td>\n",
       "      <td>2.0</td>\n",
       "      <td>0.3659</td>\n",
       "      <td>staff, care, doctor, patient, office, time, go...</td>\n",
       "      <td>[work, care, patient, require, hour, care, com...</td>\n",
       "    </tr>\n",
       "    <tr>\n",
       "      <td>9</td>\n",
       "      <td>9</td>\n",
       "      <td>2.0</td>\n",
       "      <td>0.3869</td>\n",
       "      <td>staff, care, doctor, patient, office, time, go...</td>\n",
       "      <td>[place, neat, really, enjoy, experience, stuff...</td>\n",
       "    </tr>\n",
       "  </tbody>\n",
       "</table>\n",
       "</div>"
      ],
      "text/plain": [
       "   Document_No  Dominant_Topic  Topic_Perc_Contrib  \\\n",
       "0            0             2.0              0.3777   \n",
       "1            1             2.0              0.3602   \n",
       "2            2             2.0              0.3879   \n",
       "3            3             2.0              0.3933   \n",
       "4            4             2.0              0.3933   \n",
       "5            5             2.0              0.3911   \n",
       "6            6             2.0              0.3678   \n",
       "7            7             2.0              0.3980   \n",
       "8            8             2.0              0.3659   \n",
       "9            9             2.0              0.3869   \n",
       "\n",
       "                                            Keywords  \\\n",
       "0  staff, care, doctor, patient, office, time, go...   \n",
       "1  staff, care, doctor, patient, office, time, go...   \n",
       "2  staff, care, doctor, patient, office, time, go...   \n",
       "3  staff, care, doctor, patient, office, time, go...   \n",
       "4  staff, care, doctor, patient, office, time, go...   \n",
       "5  staff, care, doctor, patient, office, time, go...   \n",
       "6  staff, care, doctor, patient, office, time, go...   \n",
       "7  staff, care, doctor, patient, office, time, go...   \n",
       "8  staff, care, doctor, patient, office, time, go...   \n",
       "9  staff, care, doctor, patient, office, time, go...   \n",
       "\n",
       "                                                Text  \n",
       "0  [think, extremely, care, attentive, need, thor...  \n",
       "1  [friendly, punctual, super, email, lab, result...  \n",
       "2  [experience, doctor, past_experiences, see, ti...  \n",
       "3  [knowledgeable, friendly, manner, highly_recom...  \n",
       "4  [knowledgeable, friendly, manner, highly_recom...  \n",
       "5  [excellent, physician, exceptional, bedside_ma...  \n",
       "6  [see, schleider, extremely, thorough, attentiv...  \n",
       "7  [fantastic, service, friendly, knowledgeable, ...  \n",
       "8  [work, care, patient, require, hour, care, com...  \n",
       "9  [place, neat, really, enjoy, experience, stuff...  "
      ]
     },
     "execution_count": 106,
     "metadata": {},
     "output_type": "execute_result"
    }
   ],
   "source": [
    "# Show the dominant topics \n",
    "df_dominant_topic.head(10)"
   ]
  },
  {
   "cell_type": "code",
   "execution_count": 153,
   "metadata": {},
   "outputs": [
    {
     "data": {
      "text/plain": [
       "'staff, care, doctor, patient, office, time, good, recommend, experience, professional'"
      ]
     },
     "execution_count": 153,
     "metadata": {},
     "output_type": "execute_result"
    }
   ],
   "source": [
    "df_dominant_topic['Keywords'][0]"
   ]
  },
  {
   "cell_type": "code",
   "execution_count": 176,
   "metadata": {},
   "outputs": [
    {
     "data": {
      "text/plain": [
       "(12529, 5)"
      ]
     },
     "execution_count": 176,
     "metadata": {},
     "output_type": "execute_result"
    }
   ],
   "source": [
    "df_dominant_topic.shape"
   ]
  },
  {
   "cell_type": "code",
   "execution_count": 154,
   "metadata": {},
   "outputs": [],
   "source": [
    "### Order is follow the original order\n",
    "df_dominant_topic.to_csv(r'topic.data.csv', encoding='utf8')"
   ]
  },
  {
   "cell_type": "code",
   "execution_count": 149,
   "metadata": {},
   "outputs": [],
   "source": [
    "os.chdir('/Users/lurui/Desktop/Insight')"
   ]
  },
  {
   "cell_type": "code",
   "execution_count": 113,
   "metadata": {},
   "outputs": [],
   "source": [
    "#### save the model parameters\n",
    "ldamallet.save('lda_model')"
   ]
  },
  {
   "cell_type": "markdown",
   "metadata": {},
   "source": [
    "###  V:  Sentiment Analysis"
   ]
  },
  {
   "cell_type": "code",
   "execution_count": 116,
   "metadata": {},
   "outputs": [],
   "source": [
    "from vaderSentiment.vaderSentiment import SentimentIntensityAnalyzer"
   ]
  },
  {
   "cell_type": "code",
   "execution_count": 117,
   "metadata": {},
   "outputs": [],
   "source": [
    "analyser = SentimentIntensityAnalyzer()"
   ]
  },
  {
   "cell_type": "code",
   "execution_count": 118,
   "metadata": {},
   "outputs": [],
   "source": [
    "def sentiment_analyzer_scores(sentence):\n",
    "    score = analyser.polarity_scores(sentence)\n",
    "    #print(\"{:-<40} {}\".format(sentence, str(score)))\n",
    "    return (score)"
   ]
  },
  {
   "cell_type": "code",
   "execution_count": 119,
   "metadata": {},
   "outputs": [],
   "source": [
    "def listToString(s):  \n",
    "    \n",
    "    # initialize an empty string \n",
    "    str1 = \" \" \n",
    "    \n",
    "    # return string   \n",
    "    return (str1.join(s)) "
   ]
  },
  {
   "cell_type": "code",
   "execution_count": 120,
   "metadata": {},
   "outputs": [],
   "source": [
    "### Create sentiment score\n",
    "empty=[]\n",
    "for i in list(range(0,12529)):\n",
    "    test=listToString(data_lemmatized[i])\n",
    "    empty.append(sentiment_analyzer_scores(test))"
   ]
  },
  {
   "cell_type": "code",
   "execution_count": 121,
   "metadata": {},
   "outputs": [],
   "source": [
    "### Sentiment Score\n",
    "data_sentiment_score=pd.DataFrame.from_dict(empty)"
   ]
  },
  {
   "cell_type": "code",
   "execution_count": 175,
   "metadata": {},
   "outputs": [
    {
     "data": {
      "text/html": [
       "<div>\n",
       "<style scoped>\n",
       "    .dataframe tbody tr th:only-of-type {\n",
       "        vertical-align: middle;\n",
       "    }\n",
       "\n",
       "    .dataframe tbody tr th {\n",
       "        vertical-align: top;\n",
       "    }\n",
       "\n",
       "    .dataframe thead th {\n",
       "        text-align: right;\n",
       "    }\n",
       "</style>\n",
       "<table border=\"1\" class=\"dataframe\">\n",
       "  <thead>\n",
       "    <tr style=\"text-align: right;\">\n",
       "      <th></th>\n",
       "      <th>neg</th>\n",
       "      <th>neu</th>\n",
       "      <th>pos</th>\n",
       "      <th>compound</th>\n",
       "    </tr>\n",
       "  </thead>\n",
       "  <tbody>\n",
       "    <tr>\n",
       "      <td>0</td>\n",
       "      <td>0.000</td>\n",
       "      <td>0.439</td>\n",
       "      <td>0.561</td>\n",
       "      <td>0.8883</td>\n",
       "    </tr>\n",
       "    <tr>\n",
       "      <td>1</td>\n",
       "      <td>0.000</td>\n",
       "      <td>0.524</td>\n",
       "      <td>0.476</td>\n",
       "      <td>0.8748</td>\n",
       "    </tr>\n",
       "    <tr>\n",
       "      <td>2</td>\n",
       "      <td>0.000</td>\n",
       "      <td>0.447</td>\n",
       "      <td>0.553</td>\n",
       "      <td>0.9118</td>\n",
       "    </tr>\n",
       "    <tr>\n",
       "      <td>3</td>\n",
       "      <td>0.000</td>\n",
       "      <td>0.385</td>\n",
       "      <td>0.615</td>\n",
       "      <td>0.7506</td>\n",
       "    </tr>\n",
       "    <tr>\n",
       "      <td>4</td>\n",
       "      <td>0.000</td>\n",
       "      <td>0.385</td>\n",
       "      <td>0.615</td>\n",
       "      <td>0.7506</td>\n",
       "    </tr>\n",
       "    <tr>\n",
       "      <td>...</td>\n",
       "      <td>...</td>\n",
       "      <td>...</td>\n",
       "      <td>...</td>\n",
       "      <td>...</td>\n",
       "    </tr>\n",
       "    <tr>\n",
       "      <td>12524</td>\n",
       "      <td>0.000</td>\n",
       "      <td>0.226</td>\n",
       "      <td>0.774</td>\n",
       "      <td>0.8834</td>\n",
       "    </tr>\n",
       "    <tr>\n",
       "      <td>12525</td>\n",
       "      <td>0.026</td>\n",
       "      <td>0.552</td>\n",
       "      <td>0.422</td>\n",
       "      <td>0.9852</td>\n",
       "    </tr>\n",
       "    <tr>\n",
       "      <td>12526</td>\n",
       "      <td>0.000</td>\n",
       "      <td>0.490</td>\n",
       "      <td>0.510</td>\n",
       "      <td>0.8860</td>\n",
       "    </tr>\n",
       "    <tr>\n",
       "      <td>12527</td>\n",
       "      <td>0.000</td>\n",
       "      <td>0.580</td>\n",
       "      <td>0.420</td>\n",
       "      <td>0.9062</td>\n",
       "    </tr>\n",
       "    <tr>\n",
       "      <td>12528</td>\n",
       "      <td>0.000</td>\n",
       "      <td>0.367</td>\n",
       "      <td>0.633</td>\n",
       "      <td>0.7845</td>\n",
       "    </tr>\n",
       "  </tbody>\n",
       "</table>\n",
       "<p>12529 rows × 4 columns</p>\n",
       "</div>"
      ],
      "text/plain": [
       "         neg    neu    pos  compound\n",
       "0      0.000  0.439  0.561    0.8883\n",
       "1      0.000  0.524  0.476    0.8748\n",
       "2      0.000  0.447  0.553    0.9118\n",
       "3      0.000  0.385  0.615    0.7506\n",
       "4      0.000  0.385  0.615    0.7506\n",
       "...      ...    ...    ...       ...\n",
       "12524  0.000  0.226  0.774    0.8834\n",
       "12525  0.026  0.552  0.422    0.9852\n",
       "12526  0.000  0.490  0.510    0.8860\n",
       "12527  0.000  0.580  0.420    0.9062\n",
       "12528  0.000  0.367  0.633    0.7845\n",
       "\n",
       "[12529 rows x 4 columns]"
      ]
     },
     "execution_count": 175,
     "metadata": {},
     "output_type": "execute_result"
    }
   ],
   "source": [
    "data_sentiment_score"
   ]
  },
  {
   "cell_type": "markdown",
   "metadata": {},
   "source": [
    "The polarity score is a float within the range [-1.0, 1.0].\n",
    "The subjectivity is a float within the range [0.0, 1.0] \n",
    "0.0 is very objective and \n",
    "1.0 is very subjective."
   ]
  },
  {
   "cell_type": "code",
   "execution_count": 124,
   "metadata": {},
   "outputs": [],
   "source": [
    "from textblob import TextBlob"
   ]
  },
  {
   "cell_type": "code",
   "execution_count": 125,
   "metadata": {},
   "outputs": [],
   "source": [
    "### Decompose the sentiment score into subjective vs.polarity \n",
    "empty_1=[]\n",
    "for i in list(range(0,12529)):\n",
    "    test=listToString(data_lemmatized[i])\n",
    "    empty_1.append(list(TextBlob(test).sentiment))"
   ]
  },
  {
   "cell_type": "code",
   "execution_count": 126,
   "metadata": {},
   "outputs": [],
   "source": [
    "data_pos_sub=pd.DataFrame(empty_1,columns=['polarity','subjectivity'])"
   ]
  },
  {
   "cell_type": "code",
   "execution_count": 157,
   "metadata": {},
   "outputs": [
    {
     "data": {
      "text/html": [
       "<div>\n",
       "<style scoped>\n",
       "    .dataframe tbody tr th:only-of-type {\n",
       "        vertical-align: middle;\n",
       "    }\n",
       "\n",
       "    .dataframe tbody tr th {\n",
       "        vertical-align: top;\n",
       "    }\n",
       "\n",
       "    .dataframe thead th {\n",
       "        text-align: right;\n",
       "    }\n",
       "</style>\n",
       "<table border=\"1\" class=\"dataframe\">\n",
       "  <thead>\n",
       "    <tr style=\"text-align: right;\">\n",
       "      <th></th>\n",
       "      <th>polarity</th>\n",
       "      <th>subjectivity</th>\n",
       "    </tr>\n",
       "  </thead>\n",
       "  <tbody>\n",
       "    <tr>\n",
       "      <td>0</td>\n",
       "      <td>0.233750</td>\n",
       "      <td>0.818333</td>\n",
       "    </tr>\n",
       "    <tr>\n",
       "      <td>1</td>\n",
       "      <td>0.227083</td>\n",
       "      <td>0.377381</td>\n",
       "    </tr>\n",
       "    <tr>\n",
       "      <td>2</td>\n",
       "      <td>0.000000</td>\n",
       "      <td>0.000000</td>\n",
       "    </tr>\n",
       "    <tr>\n",
       "      <td>3</td>\n",
       "      <td>0.375000</td>\n",
       "      <td>0.500000</td>\n",
       "    </tr>\n",
       "    <tr>\n",
       "      <td>4</td>\n",
       "      <td>0.375000</td>\n",
       "      <td>0.500000</td>\n",
       "    </tr>\n",
       "    <tr>\n",
       "      <td>5</td>\n",
       "      <td>0.833333</td>\n",
       "      <td>1.000000</td>\n",
       "    </tr>\n",
       "    <tr>\n",
       "      <td>6</td>\n",
       "      <td>0.193750</td>\n",
       "      <td>0.675000</td>\n",
       "    </tr>\n",
       "    <tr>\n",
       "      <td>7</td>\n",
       "      <td>0.258333</td>\n",
       "      <td>0.633333</td>\n",
       "    </tr>\n",
       "    <tr>\n",
       "      <td>8</td>\n",
       "      <td>-0.300000</td>\n",
       "      <td>0.400000</td>\n",
       "    </tr>\n",
       "    <tr>\n",
       "      <td>9</td>\n",
       "      <td>0.191667</td>\n",
       "      <td>0.600000</td>\n",
       "    </tr>\n",
       "  </tbody>\n",
       "</table>\n",
       "</div>"
      ],
      "text/plain": [
       "   polarity  subjectivity\n",
       "0  0.233750      0.818333\n",
       "1  0.227083      0.377381\n",
       "2  0.000000      0.000000\n",
       "3  0.375000      0.500000\n",
       "4  0.375000      0.500000\n",
       "5  0.833333      1.000000\n",
       "6  0.193750      0.675000\n",
       "7  0.258333      0.633333\n",
       "8 -0.300000      0.400000\n",
       "9  0.191667      0.600000"
      ]
     },
     "execution_count": 157,
     "metadata": {},
     "output_type": "execute_result"
    }
   ],
   "source": [
    "data_pos_sub.head(10)"
   ]
  },
  {
   "cell_type": "code",
   "execution_count": 169,
   "metadata": {},
   "outputs": [
    {
     "data": {
      "text/plain": [
       "(12529, 2)"
      ]
     },
     "execution_count": 169,
     "metadata": {},
     "output_type": "execute_result"
    }
   ],
   "source": [
    "data_pos_sub.shape"
   ]
  },
  {
   "cell_type": "code",
   "execution_count": 163,
   "metadata": {},
   "outputs": [],
   "source": [
    "data=data.drop(['Unnamed: 0'],axis=1)"
   ]
  },
  {
   "cell_type": "code",
   "execution_count": 164,
   "metadata": {},
   "outputs": [
    {
     "data": {
      "text/plain": [
       "(12529, 13)"
      ]
     },
     "execution_count": 164,
     "metadata": {},
     "output_type": "execute_result"
    }
   ],
   "source": [
    "data.shape"
   ]
  },
  {
   "cell_type": "code",
   "execution_count": 128,
   "metadata": {},
   "outputs": [],
   "source": [
    "data.reset_index(drop=True, inplace=True)\n",
    "data_pos_sub.reset_index(drop=True, inplace=True)\n",
    "data_sentiment_score.reset_index(drop=True, inplace=True)"
   ]
  },
  {
   "cell_type": "code",
   "execution_count": 177,
   "metadata": {},
   "outputs": [],
   "source": [
    "data_full=pd.concat([data,data_sentiment_score,data_pos_sub,df_dominant_topic],axis=1)"
   ]
  },
  {
   "cell_type": "code",
   "execution_count": 178,
   "metadata": {},
   "outputs": [
    {
     "data": {
      "text/html": [
       "<div>\n",
       "<style scoped>\n",
       "    .dataframe tbody tr th:only-of-type {\n",
       "        vertical-align: middle;\n",
       "    }\n",
       "\n",
       "    .dataframe tbody tr th {\n",
       "        vertical-align: top;\n",
       "    }\n",
       "\n",
       "    .dataframe thead th {\n",
       "        text-align: right;\n",
       "    }\n",
       "</style>\n",
       "<table border=\"1\" class=\"dataframe\">\n",
       "  <thead>\n",
       "    <tr style=\"text-align: right;\">\n",
       "      <th></th>\n",
       "      <th>Name</th>\n",
       "      <th>Speciality</th>\n",
       "      <th>Star Rating</th>\n",
       "      <th>Staff</th>\n",
       "      <th>Punctuality</th>\n",
       "      <th>Helpfulness</th>\n",
       "      <th>Knowledge</th>\n",
       "      <th>comment</th>\n",
       "      <th>Rating Usefulness</th>\n",
       "      <th>Review Date</th>\n",
       "      <th>...</th>\n",
       "      <th>neu</th>\n",
       "      <th>pos</th>\n",
       "      <th>compound</th>\n",
       "      <th>polarity</th>\n",
       "      <th>subjectivity</th>\n",
       "      <th>Document_No</th>\n",
       "      <th>Dominant_Topic</th>\n",
       "      <th>Topic_Perc_Contrib</th>\n",
       "      <th>Keywords</th>\n",
       "      <th>Text</th>\n",
       "    </tr>\n",
       "  </thead>\n",
       "  <tbody>\n",
       "    <tr>\n",
       "      <td>0</td>\n",
       "      <td>Dr. Natan Schleider</td>\n",
       "      <td>Family Doctor / G.P.</td>\n",
       "      <td>5.0</td>\n",
       "      <td>5</td>\n",
       "      <td>5.0</td>\n",
       "      <td>5</td>\n",
       "      <td>5.0</td>\n",
       "      <td>I thought   was extremely caring and attentive...</td>\n",
       "      <td>['0']</td>\n",
       "      <td>['November', '20,', '2019']</td>\n",
       "      <td>...</td>\n",
       "      <td>0.439</td>\n",
       "      <td>0.561</td>\n",
       "      <td>0.8883</td>\n",
       "      <td>0.233750</td>\n",
       "      <td>0.818333</td>\n",
       "      <td>0</td>\n",
       "      <td>2.0</td>\n",
       "      <td>0.3777</td>\n",
       "      <td>staff, care, doctor, patient, office, time, go...</td>\n",
       "      <td>[think, extremely, care, attentive, need, thor...</td>\n",
       "    </tr>\n",
       "    <tr>\n",
       "      <td>1</td>\n",
       "      <td>Dr. Natan Schleider</td>\n",
       "      <td>Family Doctor / G.P.</td>\n",
       "      <td>5.0</td>\n",
       "      <td>5</td>\n",
       "      <td>5.0</td>\n",
       "      <td>5</td>\n",
       "      <td>5.0</td>\n",
       "      <td>was friendly, punctual, and super nice. He e...</td>\n",
       "      <td>['0']</td>\n",
       "      <td>['July', '7,', '2019']</td>\n",
       "      <td>...</td>\n",
       "      <td>0.524</td>\n",
       "      <td>0.476</td>\n",
       "      <td>0.8748</td>\n",
       "      <td>0.227083</td>\n",
       "      <td>0.377381</td>\n",
       "      <td>1</td>\n",
       "      <td>2.0</td>\n",
       "      <td>0.3602</td>\n",
       "      <td>staff, care, doctor, patient, office, time, go...</td>\n",
       "      <td>[friendly, punctual, super, email, lab, result...</td>\n",
       "    </tr>\n",
       "    <tr>\n",
       "      <td>2</td>\n",
       "      <td>Dr. Natan Schleider</td>\n",
       "      <td>Family Doctor / G.P.</td>\n",
       "      <td>5.0</td>\n",
       "      <td>5</td>\n",
       "      <td>5.0</td>\n",
       "      <td>5</td>\n",
       "      <td>5.0</td>\n",
       "      <td>My experience with   was the opposite of every...</td>\n",
       "      <td>['0']</td>\n",
       "      <td>['January', '2,', '2019']</td>\n",
       "      <td>...</td>\n",
       "      <td>0.447</td>\n",
       "      <td>0.553</td>\n",
       "      <td>0.9118</td>\n",
       "      <td>0.000000</td>\n",
       "      <td>0.000000</td>\n",
       "      <td>2</td>\n",
       "      <td>2.0</td>\n",
       "      <td>0.3879</td>\n",
       "      <td>staff, care, doctor, patient, office, time, go...</td>\n",
       "      <td>[experience, doctor, past_experiences, see, ti...</td>\n",
       "    </tr>\n",
       "    <tr>\n",
       "      <td>3</td>\n",
       "      <td>Dr. Natan Schleider</td>\n",
       "      <td>Family Doctor / G.P.</td>\n",
       "      <td>5.0</td>\n",
       "      <td>5</td>\n",
       "      <td>5.0</td>\n",
       "      <td>5</td>\n",
       "      <td>5.0</td>\n",
       "      <td>very good. Very knowledgeable and friendly wit...</td>\n",
       "      <td>['0']</td>\n",
       "      <td>['August', '9,', '2017']</td>\n",
       "      <td>...</td>\n",
       "      <td>0.385</td>\n",
       "      <td>0.615</td>\n",
       "      <td>0.7506</td>\n",
       "      <td>0.375000</td>\n",
       "      <td>0.500000</td>\n",
       "      <td>3</td>\n",
       "      <td>2.0</td>\n",
       "      <td>0.3933</td>\n",
       "      <td>staff, care, doctor, patient, office, time, go...</td>\n",
       "      <td>[knowledgeable, friendly, manner, highly_recom...</td>\n",
       "    </tr>\n",
       "    <tr>\n",
       "      <td>4</td>\n",
       "      <td>Dr. Natan Schleider</td>\n",
       "      <td>Family Doctor / G.P.</td>\n",
       "      <td>4.0</td>\n",
       "      <td>5</td>\n",
       "      <td>5.0</td>\n",
       "      <td>5</td>\n",
       "      <td>1.0</td>\n",
       "      <td>is very knowledgeable and friendly with an e...</td>\n",
       "      <td>['0']</td>\n",
       "      <td>['November', '8,', '2015']</td>\n",
       "      <td>...</td>\n",
       "      <td>0.385</td>\n",
       "      <td>0.615</td>\n",
       "      <td>0.7506</td>\n",
       "      <td>0.375000</td>\n",
       "      <td>0.500000</td>\n",
       "      <td>4</td>\n",
       "      <td>2.0</td>\n",
       "      <td>0.3933</td>\n",
       "      <td>staff, care, doctor, patient, office, time, go...</td>\n",
       "      <td>[knowledgeable, friendly, manner, highly_recom...</td>\n",
       "    </tr>\n",
       "    <tr>\n",
       "      <td>5</td>\n",
       "      <td>Dr. Natan Schleider</td>\n",
       "      <td>Family Doctor / G.P.</td>\n",
       "      <td>5.0</td>\n",
       "      <td>5</td>\n",
       "      <td>5.0</td>\n",
       "      <td>5</td>\n",
       "      <td>5.0</td>\n",
       "      <td>Excellent Physician with exceptional bedside m...</td>\n",
       "      <td>['2']</td>\n",
       "      <td>['August', '13,', '2015']</td>\n",
       "      <td>...</td>\n",
       "      <td>0.580</td>\n",
       "      <td>0.420</td>\n",
       "      <td>0.7003</td>\n",
       "      <td>0.833333</td>\n",
       "      <td>1.000000</td>\n",
       "      <td>5</td>\n",
       "      <td>2.0</td>\n",
       "      <td>0.3911</td>\n",
       "      <td>staff, care, doctor, patient, office, time, go...</td>\n",
       "      <td>[excellent, physician, exceptional, bedside_ma...</td>\n",
       "    </tr>\n",
       "    <tr>\n",
       "      <td>6</td>\n",
       "      <td>Dr. Natan Schleider</td>\n",
       "      <td>Family Doctor / G.P.</td>\n",
       "      <td>5.0</td>\n",
       "      <td>5</td>\n",
       "      <td>5.0</td>\n",
       "      <td>5</td>\n",
       "      <td>5.0</td>\n",
       "      <td>I've been seeing Dr Schleider for . He is extr...</td>\n",
       "      <td>['5']</td>\n",
       "      <td>['November', '3,', '2014']</td>\n",
       "      <td>...</td>\n",
       "      <td>0.785</td>\n",
       "      <td>0.215</td>\n",
       "      <td>0.5520</td>\n",
       "      <td>0.193750</td>\n",
       "      <td>0.675000</td>\n",
       "      <td>6</td>\n",
       "      <td>2.0</td>\n",
       "      <td>0.3678</td>\n",
       "      <td>staff, care, doctor, patient, office, time, go...</td>\n",
       "      <td>[see, schleider, extremely, thorough, attentiv...</td>\n",
       "    </tr>\n",
       "    <tr>\n",
       "      <td>7</td>\n",
       "      <td>Dr. Natan Schleider</td>\n",
       "      <td>Family Doctor / G.P.</td>\n",
       "      <td>5.0</td>\n",
       "      <td>5</td>\n",
       "      <td>5.0</td>\n",
       "      <td>5</td>\n",
       "      <td>5.0</td>\n",
       "      <td>Fantastic service, Friendly &amp; Knowledgeable! I...</td>\n",
       "      <td>['1']</td>\n",
       "      <td>['September', '2,', '2013']</td>\n",
       "      <td>...</td>\n",
       "      <td>0.165</td>\n",
       "      <td>0.835</td>\n",
       "      <td>0.9349</td>\n",
       "      <td>0.258333</td>\n",
       "      <td>0.633333</td>\n",
       "      <td>7</td>\n",
       "      <td>2.0</td>\n",
       "      <td>0.3980</td>\n",
       "      <td>staff, care, doctor, patient, office, time, go...</td>\n",
       "      <td>[fantastic, service, friendly, knowledgeable, ...</td>\n",
       "    </tr>\n",
       "    <tr>\n",
       "      <td>8</td>\n",
       "      <td>Dr. Natan Schleider</td>\n",
       "      <td>Family Doctor / G.P.</td>\n",
       "      <td>5.0</td>\n",
       "      <td>5</td>\n",
       "      <td>5.0</td>\n",
       "      <td>5</td>\n",
       "      <td>5.0</td>\n",
       "      <td>I am a registered nurse in  and worked with   ...</td>\n",
       "      <td>['3']</td>\n",
       "      <td>['July', '10,', '2013']</td>\n",
       "      <td>...</td>\n",
       "      <td>0.520</td>\n",
       "      <td>0.338</td>\n",
       "      <td>0.7178</td>\n",
       "      <td>-0.300000</td>\n",
       "      <td>0.400000</td>\n",
       "      <td>8</td>\n",
       "      <td>2.0</td>\n",
       "      <td>0.3659</td>\n",
       "      <td>staff, care, doctor, patient, office, time, go...</td>\n",
       "      <td>[work, care, patient, require, hour, care, com...</td>\n",
       "    </tr>\n",
       "    <tr>\n",
       "      <td>9</td>\n",
       "      <td>Dr. Natan Schleider</td>\n",
       "      <td>Family Doctor / G.P.</td>\n",
       "      <td>5.0</td>\n",
       "      <td>5</td>\n",
       "      <td>5.0</td>\n",
       "      <td>5</td>\n",
       "      <td>5.0</td>\n",
       "      <td>is nice, professional and knowledgable. The ...</td>\n",
       "      <td>['2']</td>\n",
       "      <td>['April', '7,', '2013']</td>\n",
       "      <td>...</td>\n",
       "      <td>0.361</td>\n",
       "      <td>0.500</td>\n",
       "      <td>0.7900</td>\n",
       "      <td>0.191667</td>\n",
       "      <td>0.600000</td>\n",
       "      <td>9</td>\n",
       "      <td>2.0</td>\n",
       "      <td>0.3869</td>\n",
       "      <td>staff, care, doctor, patient, office, time, go...</td>\n",
       "      <td>[place, neat, really, enjoy, experience, stuff...</td>\n",
       "    </tr>\n",
       "  </tbody>\n",
       "</table>\n",
       "<p>10 rows × 24 columns</p>\n",
       "</div>"
      ],
      "text/plain": [
       "                  Name            Speciality  Star Rating  Staff  Punctuality  \\\n",
       "0  Dr. Natan Schleider  Family Doctor / G.P.          5.0      5          5.0   \n",
       "1  Dr. Natan Schleider  Family Doctor / G.P.          5.0      5          5.0   \n",
       "2  Dr. Natan Schleider  Family Doctor / G.P.          5.0      5          5.0   \n",
       "3  Dr. Natan Schleider  Family Doctor / G.P.          5.0      5          5.0   \n",
       "4  Dr. Natan Schleider  Family Doctor / G.P.          4.0      5          5.0   \n",
       "5  Dr. Natan Schleider  Family Doctor / G.P.          5.0      5          5.0   \n",
       "6  Dr. Natan Schleider  Family Doctor / G.P.          5.0      5          5.0   \n",
       "7  Dr. Natan Schleider  Family Doctor / G.P.          5.0      5          5.0   \n",
       "8  Dr. Natan Schleider  Family Doctor / G.P.          5.0      5          5.0   \n",
       "9  Dr. Natan Schleider  Family Doctor / G.P.          5.0      5          5.0   \n",
       "\n",
       "   Helpfulness  Knowledge                                            comment  \\\n",
       "0            5        5.0  I thought   was extremely caring and attentive...   \n",
       "1            5        5.0    was friendly, punctual, and super nice. He e...   \n",
       "2            5        5.0  My experience with   was the opposite of every...   \n",
       "3            5        5.0  very good. Very knowledgeable and friendly wit...   \n",
       "4            5        1.0    is very knowledgeable and friendly with an e...   \n",
       "5            5        5.0  Excellent Physician with exceptional bedside m...   \n",
       "6            5        5.0  I've been seeing Dr Schleider for . He is extr...   \n",
       "7            5        5.0  Fantastic service, Friendly & Knowledgeable! I...   \n",
       "8            5        5.0  I am a registered nurse in  and worked with   ...   \n",
       "9            5        5.0    is nice, professional and knowledgable. The ...   \n",
       "\n",
       "  Rating Usefulness                  Review Date  ...    neu    pos compound  \\\n",
       "0             ['0']  ['November', '20,', '2019']  ...  0.439  0.561   0.8883   \n",
       "1             ['0']       ['July', '7,', '2019']  ...  0.524  0.476   0.8748   \n",
       "2             ['0']    ['January', '2,', '2019']  ...  0.447  0.553   0.9118   \n",
       "3             ['0']     ['August', '9,', '2017']  ...  0.385  0.615   0.7506   \n",
       "4             ['0']   ['November', '8,', '2015']  ...  0.385  0.615   0.7506   \n",
       "5             ['2']    ['August', '13,', '2015']  ...  0.580  0.420   0.7003   \n",
       "6             ['5']   ['November', '3,', '2014']  ...  0.785  0.215   0.5520   \n",
       "7             ['1']  ['September', '2,', '2013']  ...  0.165  0.835   0.9349   \n",
       "8             ['3']      ['July', '10,', '2013']  ...  0.520  0.338   0.7178   \n",
       "9             ['2']      ['April', '7,', '2013']  ...  0.361  0.500   0.7900   \n",
       "\n",
       "   polarity  subjectivity  Document_No  Dominant_Topic  Topic_Perc_Contrib  \\\n",
       "0  0.233750      0.818333            0             2.0              0.3777   \n",
       "1  0.227083      0.377381            1             2.0              0.3602   \n",
       "2  0.000000      0.000000            2             2.0              0.3879   \n",
       "3  0.375000      0.500000            3             2.0              0.3933   \n",
       "4  0.375000      0.500000            4             2.0              0.3933   \n",
       "5  0.833333      1.000000            5             2.0              0.3911   \n",
       "6  0.193750      0.675000            6             2.0              0.3678   \n",
       "7  0.258333      0.633333            7             2.0              0.3980   \n",
       "8 -0.300000      0.400000            8             2.0              0.3659   \n",
       "9  0.191667      0.600000            9             2.0              0.3869   \n",
       "\n",
       "                                            Keywords  \\\n",
       "0  staff, care, doctor, patient, office, time, go...   \n",
       "1  staff, care, doctor, patient, office, time, go...   \n",
       "2  staff, care, doctor, patient, office, time, go...   \n",
       "3  staff, care, doctor, patient, office, time, go...   \n",
       "4  staff, care, doctor, patient, office, time, go...   \n",
       "5  staff, care, doctor, patient, office, time, go...   \n",
       "6  staff, care, doctor, patient, office, time, go...   \n",
       "7  staff, care, doctor, patient, office, time, go...   \n",
       "8  staff, care, doctor, patient, office, time, go...   \n",
       "9  staff, care, doctor, patient, office, time, go...   \n",
       "\n",
       "                                                Text  \n",
       "0  [think, extremely, care, attentive, need, thor...  \n",
       "1  [friendly, punctual, super, email, lab, result...  \n",
       "2  [experience, doctor, past_experiences, see, ti...  \n",
       "3  [knowledgeable, friendly, manner, highly_recom...  \n",
       "4  [knowledgeable, friendly, manner, highly_recom...  \n",
       "5  [excellent, physician, exceptional, bedside_ma...  \n",
       "6  [see, schleider, extremely, thorough, attentiv...  \n",
       "7  [fantastic, service, friendly, knowledgeable, ...  \n",
       "8  [work, care, patient, require, hour, care, com...  \n",
       "9  [place, neat, really, enjoy, experience, stuff...  \n",
       "\n",
       "[10 rows x 24 columns]"
      ]
     },
     "execution_count": 178,
     "metadata": {},
     "output_type": "execute_result"
    }
   ],
   "source": [
    "data_full.head(10)"
   ]
  },
  {
   "cell_type": "code",
   "execution_count": 179,
   "metadata": {},
   "outputs": [],
   "source": [
    "### Positive Sentiment\n",
    "data_full[\"Positive Sentiment\"]=(data_full[\"compound\"] >= 0.05)"
   ]
  },
  {
   "cell_type": "code",
   "execution_count": 180,
   "metadata": {},
   "outputs": [],
   "source": [
    "data_full[\"Negative Sentiment\"]=(data_full[\"compound\"] <= -0.05)"
   ]
  },
  {
   "cell_type": "code",
   "execution_count": 181,
   "metadata": {},
   "outputs": [
    {
     "data": {
      "text/html": [
       "<div>\n",
       "<style scoped>\n",
       "    .dataframe tbody tr th:only-of-type {\n",
       "        vertical-align: middle;\n",
       "    }\n",
       "\n",
       "    .dataframe tbody tr th {\n",
       "        vertical-align: top;\n",
       "    }\n",
       "\n",
       "    .dataframe thead th {\n",
       "        text-align: right;\n",
       "    }\n",
       "</style>\n",
       "<table border=\"1\" class=\"dataframe\">\n",
       "  <thead>\n",
       "    <tr style=\"text-align: right;\">\n",
       "      <th></th>\n",
       "      <th>Document_No</th>\n",
       "      <th>Dominant_Topic</th>\n",
       "      <th>Topic_Perc_Contrib</th>\n",
       "      <th>Keywords</th>\n",
       "      <th>Text</th>\n",
       "    </tr>\n",
       "  </thead>\n",
       "  <tbody>\n",
       "    <tr>\n",
       "      <td>0</td>\n",
       "      <td>0</td>\n",
       "      <td>2.0</td>\n",
       "      <td>0.3777</td>\n",
       "      <td>staff, care, doctor, patient, office, time, go...</td>\n",
       "      <td>[think, extremely, care, attentive, need, thor...</td>\n",
       "    </tr>\n",
       "    <tr>\n",
       "      <td>1</td>\n",
       "      <td>1</td>\n",
       "      <td>2.0</td>\n",
       "      <td>0.3602</td>\n",
       "      <td>staff, care, doctor, patient, office, time, go...</td>\n",
       "      <td>[friendly, punctual, super, email, lab, result...</td>\n",
       "    </tr>\n",
       "    <tr>\n",
       "      <td>2</td>\n",
       "      <td>2</td>\n",
       "      <td>2.0</td>\n",
       "      <td>0.3879</td>\n",
       "      <td>staff, care, doctor, patient, office, time, go...</td>\n",
       "      <td>[experience, doctor, past_experiences, see, ti...</td>\n",
       "    </tr>\n",
       "    <tr>\n",
       "      <td>3</td>\n",
       "      <td>3</td>\n",
       "      <td>2.0</td>\n",
       "      <td>0.3933</td>\n",
       "      <td>staff, care, doctor, patient, office, time, go...</td>\n",
       "      <td>[knowledgeable, friendly, manner, highly_recom...</td>\n",
       "    </tr>\n",
       "    <tr>\n",
       "      <td>4</td>\n",
       "      <td>4</td>\n",
       "      <td>2.0</td>\n",
       "      <td>0.3933</td>\n",
       "      <td>staff, care, doctor, patient, office, time, go...</td>\n",
       "      <td>[knowledgeable, friendly, manner, highly_recom...</td>\n",
       "    </tr>\n",
       "    <tr>\n",
       "      <td>...</td>\n",
       "      <td>...</td>\n",
       "      <td>...</td>\n",
       "      <td>...</td>\n",
       "      <td>...</td>\n",
       "      <td>...</td>\n",
       "    </tr>\n",
       "    <tr>\n",
       "      <td>12524</td>\n",
       "      <td>12524</td>\n",
       "      <td>2.0</td>\n",
       "      <td>0.3683</td>\n",
       "      <td>staff, care, doctor, patient, office, time, go...</td>\n",
       "      <td>[excellent, kind, caring, job, breast, ask]</td>\n",
       "    </tr>\n",
       "    <tr>\n",
       "      <td>12525</td>\n",
       "      <td>12525</td>\n",
       "      <td>1.0</td>\n",
       "      <td>0.4245</td>\n",
       "      <td>surgery, result, make, feel, work, procedure, ...</td>\n",
       "      <td>[doctor, staff, absolutely, amazing, surgery, ...</td>\n",
       "    </tr>\n",
       "    <tr>\n",
       "      <td>12526</td>\n",
       "      <td>12526</td>\n",
       "      <td>1.0</td>\n",
       "      <td>0.3837</td>\n",
       "      <td>surgery, result, make, feel, work, procedure, ...</td>\n",
       "      <td>[far, good, surgeon, amazing_job, change, much...</td>\n",
       "    </tr>\n",
       "    <tr>\n",
       "      <td>12527</td>\n",
       "      <td>12527</td>\n",
       "      <td>0.0</td>\n",
       "      <td>0.3479</td>\n",
       "      <td>doctor, time, call, appointment, find, wait, g...</td>\n",
       "      <td>[know, work, time, time, correct, abdominal, p...</td>\n",
       "    </tr>\n",
       "    <tr>\n",
       "      <td>12528</td>\n",
       "      <td>12528</td>\n",
       "      <td>1.0</td>\n",
       "      <td>0.3414</td>\n",
       "      <td>surgery, result, make, feel, work, procedure, ...</td>\n",
       "      <td>[love, guy, definitely, know, talk, amazing_job]</td>\n",
       "    </tr>\n",
       "  </tbody>\n",
       "</table>\n",
       "<p>12529 rows × 5 columns</p>\n",
       "</div>"
      ],
      "text/plain": [
       "       Document_No  Dominant_Topic  Topic_Perc_Contrib  \\\n",
       "0                0             2.0              0.3777   \n",
       "1                1             2.0              0.3602   \n",
       "2                2             2.0              0.3879   \n",
       "3                3             2.0              0.3933   \n",
       "4                4             2.0              0.3933   \n",
       "...            ...             ...                 ...   \n",
       "12524        12524             2.0              0.3683   \n",
       "12525        12525             1.0              0.4245   \n",
       "12526        12526             1.0              0.3837   \n",
       "12527        12527             0.0              0.3479   \n",
       "12528        12528             1.0              0.3414   \n",
       "\n",
       "                                                Keywords  \\\n",
       "0      staff, care, doctor, patient, office, time, go...   \n",
       "1      staff, care, doctor, patient, office, time, go...   \n",
       "2      staff, care, doctor, patient, office, time, go...   \n",
       "3      staff, care, doctor, patient, office, time, go...   \n",
       "4      staff, care, doctor, patient, office, time, go...   \n",
       "...                                                  ...   \n",
       "12524  staff, care, doctor, patient, office, time, go...   \n",
       "12525  surgery, result, make, feel, work, procedure, ...   \n",
       "12526  surgery, result, make, feel, work, procedure, ...   \n",
       "12527  doctor, time, call, appointment, find, wait, g...   \n",
       "12528  surgery, result, make, feel, work, procedure, ...   \n",
       "\n",
       "                                                    Text  \n",
       "0      [think, extremely, care, attentive, need, thor...  \n",
       "1      [friendly, punctual, super, email, lab, result...  \n",
       "2      [experience, doctor, past_experiences, see, ti...  \n",
       "3      [knowledgeable, friendly, manner, highly_recom...  \n",
       "4      [knowledgeable, friendly, manner, highly_recom...  \n",
       "...                                                  ...  \n",
       "12524        [excellent, kind, caring, job, breast, ask]  \n",
       "12525  [doctor, staff, absolutely, amazing, surgery, ...  \n",
       "12526  [far, good, surgeon, amazing_job, change, much...  \n",
       "12527  [know, work, time, time, correct, abdominal, p...  \n",
       "12528   [love, guy, definitely, know, talk, amazing_job]  \n",
       "\n",
       "[12529 rows x 5 columns]"
      ]
     },
     "execution_count": 181,
     "metadata": {},
     "output_type": "execute_result"
    }
   ],
   "source": [
    "df_dominant_topic"
   ]
  },
  {
   "cell_type": "code",
   "execution_count": 182,
   "metadata": {},
   "outputs": [
    {
     "data": {
      "text/plain": [
       "Index(['Name', 'Speciality', 'Star Rating', 'Staff', 'Punctuality',\n",
       "       'Helpfulness', 'Knowledge', 'comment', 'Rating Usefulness',\n",
       "       'Review Date', 'Link', 'text_length', 'trim_comment', 'neg', 'neu',\n",
       "       'pos', 'compound', 'polarity', 'subjectivity', 'Document_No',\n",
       "       'Dominant_Topic', 'Topic_Perc_Contrib', 'Keywords', 'Text',\n",
       "       'Positive Sentiment', 'Negative Sentiment'],\n",
       "      dtype='object')"
      ]
     },
     "execution_count": 182,
     "metadata": {},
     "output_type": "execute_result"
    }
   ],
   "source": [
    "data_full.columns"
   ]
  },
  {
   "cell_type": "code",
   "execution_count": 136,
   "metadata": {},
   "outputs": [
    {
     "data": {
      "text/plain": [
       "<pandas.core.groupby.generic.DataFrameGroupBy object at 0x1a3c64ed10>"
      ]
     },
     "execution_count": 136,
     "metadata": {},
     "output_type": "execute_result"
    }
   ],
   "source": [
    "data_full.groupby(['Name','Dominant_Topic'])"
   ]
  },
  {
   "cell_type": "code",
   "execution_count": 186,
   "metadata": {},
   "outputs": [],
   "source": [
    "data_full.to_csv(r'overall.data.csv', encoding='utf8')"
   ]
  },
  {
   "cell_type": "code",
   "execution_count": 328,
   "metadata": {},
   "outputs": [],
   "source": [
    "from collections import Counter\n",
    "from operator import itemgetter"
   ]
  },
  {
   "cell_type": "markdown",
   "metadata": {},
   "source": [
    "###  VI: Create evaluation criterias for text review "
   ]
  },
  {
   "cell_type": "markdown",
   "metadata": {},
   "source": [
    "#### 1: The readability :\n",
    "The Dale–Chall readability formula is a readability test that provides a numeric gauge of the comprehension difficulty that readers come upon when reading a text. It uses a list of 3000 words that groups of fourth-grade American students could reliably understand, considering any word not on that list to be difficult."
   ]
  },
  {
   "cell_type": "code",
   "execution_count": 409,
   "metadata": {},
   "outputs": [],
   "source": [
    "import textstat"
   ]
  },
  {
   "cell_type": "code",
   "execution_count": 410,
   "metadata": {},
   "outputs": [],
   "source": [
    "def get_readability(text_data):\n",
    "    ### text_data is each reviews for doctors\n",
    "    readabli_index= textstat.dale_chall_readability_score(text_data)\n",
    "    return(readabli_index)"
   ]
  },
  {
   "cell_type": "code",
   "execution_count": 411,
   "metadata": {},
   "outputs": [],
   "source": [
    "### Get the redability score\n",
    "readability_text=[]\n",
    "for i in list(range(0,12529)):\n",
    "    readability_text.append(get_readability(data_full[\"comment\"][i]))"
   ]
  },
  {
   "cell_type": "code",
   "execution_count": 192,
   "metadata": {},
   "outputs": [
    {
     "data": {
      "text/plain": [
       "(12529, 1)"
      ]
     },
     "execution_count": 192,
     "metadata": {},
     "output_type": "execute_result"
    }
   ],
   "source": [
    "readabili_text.shape"
   ]
  },
  {
   "cell_type": "code",
   "execution_count": 198,
   "metadata": {},
   "outputs": [],
   "source": [
    "data_full[\"readability\"]=readabili_text"
   ]
  },
  {
   "cell_type": "markdown",
   "metadata": {},
   "source": [
    "#### 2: The lexical richness\n",
    "lexical diversity includes variability, volume, evenness, rarity, dispersion and disparity. I am using Measure of Lexical Diversity by McCarthy 2005, McCarthy and Jarvis 2010."
   ]
  },
  {
   "cell_type": "code",
   "execution_count": 412,
   "metadata": {},
   "outputs": [],
   "source": [
    "from lexicalrichness import LexicalRichness"
   ]
  },
  {
   "cell_type": "code",
   "execution_count": 193,
   "metadata": {},
   "outputs": [],
   "source": [
    "def get_textrich (text):\n",
    "    lex = LexicalRichness(text)\n",
    "    return(lex.mtld(threshold=0.72))"
   ]
  },
  {
   "cell_type": "code",
   "execution_count": 194,
   "metadata": {},
   "outputs": [],
   "source": [
    "richness_text=[]\n",
    "for i in list(range(0,12529)):\n",
    "    richness_text.append(get_textrich(data_full[\"comment\"][i]))"
   ]
  },
  {
   "cell_type": "code",
   "execution_count": 195,
   "metadata": {},
   "outputs": [],
   "source": [
    "richness_text=pd.DataFrame(richness_text)"
   ]
  },
  {
   "cell_type": "code",
   "execution_count": 199,
   "metadata": {},
   "outputs": [],
   "source": [
    "data_full[\"richness_text\"]=richness_text"
   ]
  },
  {
   "cell_type": "markdown",
   "metadata": {},
   "source": [
    "#### 3: Percentage that contribute to the topic \n",
    "probability of belonging to a specific topic for all topics"
   ]
  },
  {
   "cell_type": "code",
   "execution_count": 197,
   "metadata": {},
   "outputs": [],
   "source": [
    "Topic_Perc_Contrib=df_dominant_topic['Topic_Perc_Contrib']"
   ]
  },
  {
   "cell_type": "code",
   "execution_count": 200,
   "metadata": {},
   "outputs": [],
   "source": [
    "score_data=data_full[['Topic_Perc_Contrib','readability','richness','subjectivity']]"
   ]
  },
  {
   "cell_type": "markdown",
   "metadata": {},
   "source": [
    "#### 4: Objectivity of the review\n",
    "motional evaluation: Such evaluations are from non-tangible and emotional responses to entities which go deep into people’s state of mind.Subjective sentence expresses some personal feelings, views, or beliefs.."
   ]
  },
  {
   "cell_type": "code",
   "execution_count": 203,
   "metadata": {},
   "outputs": [
    {
     "name": "stderr",
     "output_type": "stream",
     "text": [
      "/Applications/anaconda/envs/tf/lib/python3.7/site-packages/ipykernel_launcher.py:1: SettingWithCopyWarning: \n",
      "A value is trying to be set on a copy of a slice from a DataFrame.\n",
      "Try using .loc[row_indexer,col_indexer] = value instead\n",
      "\n",
      "See the caveats in the documentation: http://pandas.pydata.org/pandas-docs/stable/user_guide/indexing.html#returning-a-view-versus-a-copy\n",
      "  \"\"\"Entry point for launching an IPython kernel.\n"
     ]
    }
   ],
   "source": [
    "score_data[\"objectivity\"]=1-score_data['subjectivity']"
   ]
  },
  {
   "cell_type": "code",
   "execution_count": 394,
   "metadata": {},
   "outputs": [],
   "source": [
    "score_data=score_data.drop([\"subjectivity\"],axis=1)"
   ]
  },
  {
   "cell_type": "code",
   "execution_count": 205,
   "metadata": {},
   "outputs": [],
   "source": [
    "score_data=score_data.drop(['subjectivity'],axis=1)"
   ]
  },
  {
   "cell_type": "code",
   "execution_count": 206,
   "metadata": {},
   "outputs": [
    {
     "data": {
      "text/html": [
       "<div>\n",
       "<style scoped>\n",
       "    .dataframe tbody tr th:only-of-type {\n",
       "        vertical-align: middle;\n",
       "    }\n",
       "\n",
       "    .dataframe tbody tr th {\n",
       "        vertical-align: top;\n",
       "    }\n",
       "\n",
       "    .dataframe thead th {\n",
       "        text-align: right;\n",
       "    }\n",
       "</style>\n",
       "<table border=\"1\" class=\"dataframe\">\n",
       "  <thead>\n",
       "    <tr style=\"text-align: right;\">\n",
       "      <th></th>\n",
       "      <th>Topic_Perc_Contrib</th>\n",
       "      <th>readability</th>\n",
       "      <th>richness</th>\n",
       "      <th>objectivity</th>\n",
       "    </tr>\n",
       "  </thead>\n",
       "  <tbody>\n",
       "    <tr>\n",
       "      <td>0</td>\n",
       "      <td>0.3777</td>\n",
       "      <td>8.73</td>\n",
       "      <td>35.000000</td>\n",
       "      <td>0.181667</td>\n",
       "    </tr>\n",
       "    <tr>\n",
       "      <td>1</td>\n",
       "      <td>0.3602</td>\n",
       "      <td>8.71</td>\n",
       "      <td>78.493333</td>\n",
       "      <td>0.622619</td>\n",
       "    </tr>\n",
       "    <tr>\n",
       "      <td>2</td>\n",
       "      <td>0.3879</td>\n",
       "      <td>8.84</td>\n",
       "      <td>84.000000</td>\n",
       "      <td>1.000000</td>\n",
       "    </tr>\n",
       "    <tr>\n",
       "      <td>3</td>\n",
       "      <td>0.3933</td>\n",
       "      <td>8.67</td>\n",
       "      <td>39.631589</td>\n",
       "      <td>0.500000</td>\n",
       "    </tr>\n",
       "    <tr>\n",
       "      <td>4</td>\n",
       "      <td>0.3933</td>\n",
       "      <td>8.87</td>\n",
       "      <td>112.000000</td>\n",
       "      <td>0.500000</td>\n",
       "    </tr>\n",
       "    <tr>\n",
       "      <td>5</td>\n",
       "      <td>0.3911</td>\n",
       "      <td>8.53</td>\n",
       "      <td>102.060000</td>\n",
       "      <td>0.000000</td>\n",
       "    </tr>\n",
       "    <tr>\n",
       "      <td>6</td>\n",
       "      <td>0.3678</td>\n",
       "      <td>7.40</td>\n",
       "      <td>80.920000</td>\n",
       "      <td>0.325000</td>\n",
       "    </tr>\n",
       "    <tr>\n",
       "      <td>7</td>\n",
       "      <td>0.3980</td>\n",
       "      <td>8.22</td>\n",
       "      <td>15.000000</td>\n",
       "      <td>0.366667</td>\n",
       "    </tr>\n",
       "    <tr>\n",
       "      <td>8</td>\n",
       "      <td>0.3659</td>\n",
       "      <td>10.17</td>\n",
       "      <td>68.040000</td>\n",
       "      <td>0.600000</td>\n",
       "    </tr>\n",
       "    <tr>\n",
       "      <td>9</td>\n",
       "      <td>0.3869</td>\n",
       "      <td>6.01</td>\n",
       "      <td>71.680000</td>\n",
       "      <td>0.400000</td>\n",
       "    </tr>\n",
       "  </tbody>\n",
       "</table>\n",
       "</div>"
      ],
      "text/plain": [
       "   Topic_Perc_Contrib  readability    richness  objectivity\n",
       "0              0.3777         8.73   35.000000     0.181667\n",
       "1              0.3602         8.71   78.493333     0.622619\n",
       "2              0.3879         8.84   84.000000     1.000000\n",
       "3              0.3933         8.67   39.631589     0.500000\n",
       "4              0.3933         8.87  112.000000     0.500000\n",
       "5              0.3911         8.53  102.060000     0.000000\n",
       "6              0.3678         7.40   80.920000     0.325000\n",
       "7              0.3980         8.22   15.000000     0.366667\n",
       "8              0.3659        10.17   68.040000     0.600000\n",
       "9              0.3869         6.01   71.680000     0.400000"
      ]
     },
     "execution_count": 206,
     "metadata": {},
     "output_type": "execute_result"
    }
   ],
   "source": [
    "score_data.head(10)"
   ]
  },
  {
   "cell_type": "code",
   "execution_count": 291,
   "metadata": {},
   "outputs": [],
   "source": [
    "score_data['Review Useful']=data_full['Review Useful']"
   ]
  },
  {
   "cell_type": "code",
   "execution_count": 293,
   "metadata": {},
   "outputs": [
    {
     "data": {
      "text/plain": [
       "0    9670\n",
       "1    2859\n",
       "Name: Review Useful, dtype: int64"
      ]
     },
     "execution_count": 293,
     "metadata": {},
     "output_type": "execute_result"
    }
   ],
   "source": [
    "score_data['Review Useful']"
   ]
  },
  {
   "cell_type": "code",
   "execution_count": 294,
   "metadata": {},
   "outputs": [],
   "source": [
    "score_data[\"text\"]=data_lemmatized"
   ]
  },
  {
   "cell_type": "code",
   "execution_count": 295,
   "metadata": {},
   "outputs": [],
   "source": [
    "score_data.to_csv(r'evaluation.data.csv', encoding='utf8')"
   ]
  }
 ],
 "metadata": {
  "kernelspec": {
   "display_name": "Python 3",
   "language": "python",
   "name": "python3"
  },
  "language_info": {
   "codemirror_mode": {
    "name": "ipython",
    "version": 3
   },
   "file_extension": ".py",
   "mimetype": "text/x-python",
   "name": "python",
   "nbconvert_exporter": "python",
   "pygments_lexer": "ipython3",
   "version": "3.7.4"
  }
 },
 "nbformat": 4,
 "nbformat_minor": 2
}
